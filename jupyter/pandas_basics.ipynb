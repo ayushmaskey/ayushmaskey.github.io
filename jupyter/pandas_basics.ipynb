{
 "cells": [
  {
   "cell_type": "markdown",
   "metadata": {},
   "source": [
    "### Pandas basic\n",
    "  * uses dataframe to put data in easy to use format\n",
    "  * SQL like - relational\n",
    "  * fast read right from storage"
   ]
  },
  {
   "cell_type": "code",
   "execution_count": 12,
   "metadata": {},
   "outputs": [],
   "source": [
    "import pandas as pd\n",
    "import numpy as np"
   ]
  },
  {
   "cell_type": "markdown",
   "metadata": {},
   "source": [
    "### creating dataframe\n",
    "1. from dict\n",
    "2. from numpy array\n",
    "3. from csv\n",
    "4. from fwf"
   ]
  },
  {
   "cell_type": "code",
   "execution_count": 13,
   "metadata": {},
   "outputs": [
    {
     "data": {
      "text/html": [
       "<div>\n",
       "<style scoped>\n",
       "    .dataframe tbody tr th:only-of-type {\n",
       "        vertical-align: middle;\n",
       "    }\n",
       "\n",
       "    .dataframe tbody tr th {\n",
       "        vertical-align: top;\n",
       "    }\n",
       "\n",
       "    .dataframe thead th {\n",
       "        text-align: right;\n",
       "    }\n",
       "</style>\n",
       "<table border=\"1\" class=\"dataframe\">\n",
       "  <thead>\n",
       "    <tr style=\"text-align: right;\">\n",
       "      <th></th>\n",
       "      <th>age</th>\n",
       "      <th>grade</th>\n",
       "      <th>phone</th>\n",
       "    </tr>\n",
       "  </thead>\n",
       "  <tbody>\n",
       "    <tr>\n",
       "      <th>alice</th>\n",
       "      <td>13</td>\n",
       "      <td>78</td>\n",
       "      <td>123-1234</td>\n",
       "    </tr>\n",
       "    <tr>\n",
       "      <th>bob</th>\n",
       "      <td>12</td>\n",
       "      <td>77</td>\n",
       "      <td>321-4321</td>\n",
       "    </tr>\n",
       "    <tr>\n",
       "      <th>eve</th>\n",
       "      <td>13</td>\n",
       "      <td>92</td>\n",
       "      <td>321-4321</td>\n",
       "    </tr>\n",
       "  </tbody>\n",
       "</table>\n",
       "</div>"
      ],
      "text/plain": [
       "       age  grade     phone\n",
       "alice   13     78  123-1234\n",
       "bob     12     77  321-4321\n",
       "eve     13     92  321-4321"
      ]
     },
     "execution_count": 13,
     "metadata": {},
     "output_type": "execute_result"
    }
   ],
   "source": [
    "# DataFrame from dict\n",
    "students = pd.DataFrame( {\n",
    "    'phone': ['123-1234', '321-4321', '321-4321'],\n",
    "    'age': [13, 12, 13],\n",
    "    'grade': [78, 77, 92]}, \n",
    "    index = ['alice', 'bob', 'eve'] )\n",
    "students"
   ]
  },
  {
   "cell_type": "code",
   "execution_count": 14,
   "metadata": {},
   "outputs": [
    {
     "data": {
      "text/plain": [
       "Index(['alice', 'bob', 'eve'], dtype='object')"
      ]
     },
     "execution_count": 14,
     "metadata": {},
     "output_type": "execute_result"
    }
   ],
   "source": [
    "students.index"
   ]
  },
  {
   "cell_type": "code",
   "execution_count": 15,
   "metadata": {},
   "outputs": [
    {
     "data": {
      "text/html": [
       "<div>\n",
       "<style scoped>\n",
       "    .dataframe tbody tr th:only-of-type {\n",
       "        vertical-align: middle;\n",
       "    }\n",
       "\n",
       "    .dataframe tbody tr th {\n",
       "        vertical-align: top;\n",
       "    }\n",
       "\n",
       "    .dataframe thead th {\n",
       "        text-align: right;\n",
       "    }\n",
       "</style>\n",
       "<table border=\"1\" class=\"dataframe\">\n",
       "  <thead>\n",
       "    <tr style=\"text-align: right;\">\n",
       "      <th></th>\n",
       "      <th>A</th>\n",
       "      <th>B</th>\n",
       "      <th>C</th>\n",
       "      <th>D</th>\n",
       "    </tr>\n",
       "  </thead>\n",
       "  <tbody>\n",
       "    <tr>\n",
       "      <th>index1</th>\n",
       "      <td>0.730595</td>\n",
       "      <td>1.187878</td>\n",
       "      <td>-0.057026</td>\n",
       "      <td>0.497039</td>\n",
       "    </tr>\n",
       "    <tr>\n",
       "      <th>index2</th>\n",
       "      <td>0.163752</td>\n",
       "      <td>-1.658283</td>\n",
       "      <td>-0.660962</td>\n",
       "      <td>1.165278</td>\n",
       "    </tr>\n",
       "    <tr>\n",
       "      <th>index3</th>\n",
       "      <td>-1.203011</td>\n",
       "      <td>1.454400</td>\n",
       "      <td>0.611386</td>\n",
       "      <td>0.166255</td>\n",
       "    </tr>\n",
       "    <tr>\n",
       "      <th>index4</th>\n",
       "      <td>0.644283</td>\n",
       "      <td>-0.875351</td>\n",
       "      <td>1.336898</td>\n",
       "      <td>0.632972</td>\n",
       "    </tr>\n",
       "    <tr>\n",
       "      <th>index5</th>\n",
       "      <td>-0.136466</td>\n",
       "      <td>0.879580</td>\n",
       "      <td>0.894363</td>\n",
       "      <td>0.302853</td>\n",
       "    </tr>\n",
       "    <tr>\n",
       "      <th>index6</th>\n",
       "      <td>-1.627352</td>\n",
       "      <td>-0.430911</td>\n",
       "      <td>0.371515</td>\n",
       "      <td>-1.582012</td>\n",
       "    </tr>\n",
       "  </tbody>\n",
       "</table>\n",
       "</div>"
      ],
      "text/plain": [
       "               A         B         C         D\n",
       "index1  0.730595  1.187878 -0.057026  0.497039\n",
       "index2  0.163752 -1.658283 -0.660962  1.165278\n",
       "index3 -1.203011  1.454400  0.611386  0.166255\n",
       "index4  0.644283 -0.875351  1.336898  0.632972\n",
       "index5 -0.136466  0.879580  0.894363  0.302853\n",
       "index6 -1.627352 -0.430911  0.371515 -1.582012"
      ]
     },
     "execution_count": 15,
     "metadata": {},
     "output_type": "execute_result"
    }
   ],
   "source": [
    "# Dataframe from numpy array\n",
    "df = pd.DataFrame(np.random.randn(6,4), \n",
    "                  index=['index1', 'index2', 'index3', 'index4','index5','index6'], \n",
    "                  columns = list('ABCD'))\n",
    "df\n"
   ]
  },
  {
   "cell_type": "markdown",
   "metadata": {},
   "source": [
    "### DataFrame from csv file\n",
    "load csv --> df = pd.read_csv('./PWD/file.csv', delimiter=\"\\t\")      \n",
    "save csv --> df.to_csv('./PWD/newFile.csv  ')"
   ]
  },
  {
   "cell_type": "markdown",
   "metadata": {},
   "source": [
    "# fwf with time series\n",
    "data = pd.read_fwf('location/file.txt', \n",
    "                   header=None, \n",
    "                   index_col=0, \n",
    "                   parse_dates=[[0,1]], infer_datetime_format=True)"
   ]
  },
  {
   "cell_type": "code",
   "execution_count": 16,
   "metadata": {},
   "outputs": [
    {
     "data": {
      "text/html": [
       "<div>\n",
       "<style scoped>\n",
       "    .dataframe tbody tr th:only-of-type {\n",
       "        vertical-align: middle;\n",
       "    }\n",
       "\n",
       "    .dataframe tbody tr th {\n",
       "        vertical-align: top;\n",
       "    }\n",
       "\n",
       "    .dataframe thead th {\n",
       "        text-align: right;\n",
       "    }\n",
       "</style>\n",
       "<table border=\"1\" class=\"dataframe\">\n",
       "  <thead>\n",
       "    <tr style=\"text-align: right;\">\n",
       "      <th></th>\n",
       "      <th>A</th>\n",
       "      <th>B</th>\n",
       "      <th>C</th>\n",
       "      <th>D</th>\n",
       "    </tr>\n",
       "  </thead>\n",
       "  <tbody>\n",
       "    <tr>\n",
       "      <th>index1</th>\n",
       "      <td>0.730595</td>\n",
       "      <td>1.187878</td>\n",
       "      <td>-0.057026</td>\n",
       "      <td>0.497039</td>\n",
       "    </tr>\n",
       "    <tr>\n",
       "      <th>index2</th>\n",
       "      <td>0.163752</td>\n",
       "      <td>-1.658283</td>\n",
       "      <td>-0.660962</td>\n",
       "      <td>1.165278</td>\n",
       "    </tr>\n",
       "    <tr>\n",
       "      <th>index3</th>\n",
       "      <td>-1.203011</td>\n",
       "      <td>1.454400</td>\n",
       "      <td>0.611386</td>\n",
       "      <td>0.166255</td>\n",
       "    </tr>\n",
       "    <tr>\n",
       "      <th>index4</th>\n",
       "      <td>0.644283</td>\n",
       "      <td>-0.875351</td>\n",
       "      <td>1.336898</td>\n",
       "      <td>0.632972</td>\n",
       "    </tr>\n",
       "    <tr>\n",
       "      <th>index5</th>\n",
       "      <td>-0.136466</td>\n",
       "      <td>0.879580</td>\n",
       "      <td>0.894363</td>\n",
       "      <td>0.302853</td>\n",
       "    </tr>\n",
       "  </tbody>\n",
       "</table>\n",
       "</div>"
      ],
      "text/plain": [
       "               A         B         C         D\n",
       "index1  0.730595  1.187878 -0.057026  0.497039\n",
       "index2  0.163752 -1.658283 -0.660962  1.165278\n",
       "index3 -1.203011  1.454400  0.611386  0.166255\n",
       "index4  0.644283 -0.875351  1.336898  0.632972\n",
       "index5 -0.136466  0.879580  0.894363  0.302853"
      ]
     },
     "execution_count": 16,
     "metadata": {},
     "output_type": "execute_result"
    }
   ],
   "source": [
    "#first few lines\n",
    "df.head()"
   ]
  },
  {
   "cell_type": "code",
   "execution_count": 17,
   "metadata": {},
   "outputs": [
    {
     "data": {
      "text/html": [
       "<div>\n",
       "<style scoped>\n",
       "    .dataframe tbody tr th:only-of-type {\n",
       "        vertical-align: middle;\n",
       "    }\n",
       "\n",
       "    .dataframe tbody tr th {\n",
       "        vertical-align: top;\n",
       "    }\n",
       "\n",
       "    .dataframe thead th {\n",
       "        text-align: right;\n",
       "    }\n",
       "</style>\n",
       "<table border=\"1\" class=\"dataframe\">\n",
       "  <thead>\n",
       "    <tr style=\"text-align: right;\">\n",
       "      <th></th>\n",
       "      <th>A</th>\n",
       "      <th>B</th>\n",
       "      <th>C</th>\n",
       "      <th>D</th>\n",
       "    </tr>\n",
       "  </thead>\n",
       "  <tbody>\n",
       "    <tr>\n",
       "      <th>index1</th>\n",
       "      <td>0.730595</td>\n",
       "      <td>1.187878</td>\n",
       "      <td>-0.057026</td>\n",
       "      <td>0.497039</td>\n",
       "    </tr>\n",
       "    <tr>\n",
       "      <th>index2</th>\n",
       "      <td>0.163752</td>\n",
       "      <td>-1.658283</td>\n",
       "      <td>-0.660962</td>\n",
       "      <td>1.165278</td>\n",
       "    </tr>\n",
       "    <tr>\n",
       "      <th>index3</th>\n",
       "      <td>-1.203011</td>\n",
       "      <td>1.454400</td>\n",
       "      <td>0.611386</td>\n",
       "      <td>0.166255</td>\n",
       "    </tr>\n",
       "  </tbody>\n",
       "</table>\n",
       "</div>"
      ],
      "text/plain": [
       "               A         B         C         D\n",
       "index1  0.730595  1.187878 -0.057026  0.497039\n",
       "index2  0.163752 -1.658283 -0.660962  1.165278\n",
       "index3 -1.203011  1.454400  0.611386  0.166255"
      ]
     },
     "execution_count": 17,
     "metadata": {},
     "output_type": "execute_result"
    }
   ],
   "source": [
    "df.head(3)"
   ]
  },
  {
   "cell_type": "code",
   "execution_count": 18,
   "metadata": {
    "scrolled": true
   },
   "outputs": [
    {
     "data": {
      "text/html": [
       "<div>\n",
       "<style scoped>\n",
       "    .dataframe tbody tr th:only-of-type {\n",
       "        vertical-align: middle;\n",
       "    }\n",
       "\n",
       "    .dataframe tbody tr th {\n",
       "        vertical-align: top;\n",
       "    }\n",
       "\n",
       "    .dataframe thead th {\n",
       "        text-align: right;\n",
       "    }\n",
       "</style>\n",
       "<table border=\"1\" class=\"dataframe\">\n",
       "  <thead>\n",
       "    <tr style=\"text-align: right;\">\n",
       "      <th></th>\n",
       "      <th>A</th>\n",
       "      <th>B</th>\n",
       "      <th>C</th>\n",
       "      <th>D</th>\n",
       "    </tr>\n",
       "  </thead>\n",
       "  <tbody>\n",
       "    <tr>\n",
       "      <th>index2</th>\n",
       "      <td>0.163752</td>\n",
       "      <td>-1.658283</td>\n",
       "      <td>-0.660962</td>\n",
       "      <td>1.165278</td>\n",
       "    </tr>\n",
       "    <tr>\n",
       "      <th>index3</th>\n",
       "      <td>-1.203011</td>\n",
       "      <td>1.454400</td>\n",
       "      <td>0.611386</td>\n",
       "      <td>0.166255</td>\n",
       "    </tr>\n",
       "    <tr>\n",
       "      <th>index4</th>\n",
       "      <td>0.644283</td>\n",
       "      <td>-0.875351</td>\n",
       "      <td>1.336898</td>\n",
       "      <td>0.632972</td>\n",
       "    </tr>\n",
       "    <tr>\n",
       "      <th>index5</th>\n",
       "      <td>-0.136466</td>\n",
       "      <td>0.879580</td>\n",
       "      <td>0.894363</td>\n",
       "      <td>0.302853</td>\n",
       "    </tr>\n",
       "    <tr>\n",
       "      <th>index6</th>\n",
       "      <td>-1.627352</td>\n",
       "      <td>-0.430911</td>\n",
       "      <td>0.371515</td>\n",
       "      <td>-1.582012</td>\n",
       "    </tr>\n",
       "  </tbody>\n",
       "</table>\n",
       "</div>"
      ],
      "text/plain": [
       "               A         B         C         D\n",
       "index2  0.163752 -1.658283 -0.660962  1.165278\n",
       "index3 -1.203011  1.454400  0.611386  0.166255\n",
       "index4  0.644283 -0.875351  1.336898  0.632972\n",
       "index5 -0.136466  0.879580  0.894363  0.302853\n",
       "index6 -1.627352 -0.430911  0.371515 -1.582012"
      ]
     },
     "execution_count": 18,
     "metadata": {},
     "output_type": "execute_result"
    }
   ],
   "source": [
    "#last few lines\n",
    "df.tail()"
   ]
  },
  {
   "cell_type": "code",
   "execution_count": 19,
   "metadata": {},
   "outputs": [
    {
     "data": {
      "text/html": [
       "<div>\n",
       "<style scoped>\n",
       "    .dataframe tbody tr th:only-of-type {\n",
       "        vertical-align: middle;\n",
       "    }\n",
       "\n",
       "    .dataframe tbody tr th {\n",
       "        vertical-align: top;\n",
       "    }\n",
       "\n",
       "    .dataframe thead th {\n",
       "        text-align: right;\n",
       "    }\n",
       "</style>\n",
       "<table border=\"1\" class=\"dataframe\">\n",
       "  <thead>\n",
       "    <tr style=\"text-align: right;\">\n",
       "      <th></th>\n",
       "      <th>A</th>\n",
       "      <th>B</th>\n",
       "      <th>C</th>\n",
       "      <th>D</th>\n",
       "    </tr>\n",
       "  </thead>\n",
       "  <tbody>\n",
       "    <tr>\n",
       "      <th>index5</th>\n",
       "      <td>-0.136466</td>\n",
       "      <td>0.879580</td>\n",
       "      <td>0.894363</td>\n",
       "      <td>0.302853</td>\n",
       "    </tr>\n",
       "    <tr>\n",
       "      <th>index6</th>\n",
       "      <td>-1.627352</td>\n",
       "      <td>-0.430911</td>\n",
       "      <td>0.371515</td>\n",
       "      <td>-1.582012</td>\n",
       "    </tr>\n",
       "  </tbody>\n",
       "</table>\n",
       "</div>"
      ],
      "text/plain": [
       "               A         B         C         D\n",
       "index5 -0.136466  0.879580  0.894363  0.302853\n",
       "index6 -1.627352 -0.430911  0.371515 -1.582012"
      ]
     },
     "execution_count": 19,
     "metadata": {},
     "output_type": "execute_result"
    }
   ],
   "source": [
    "df.tail(2)"
   ]
  },
  {
   "cell_type": "markdown",
   "metadata": {},
   "source": [
    "### Understanding data"
   ]
  },
  {
   "cell_type": "code",
   "execution_count": 20,
   "metadata": {},
   "outputs": [
    {
     "data": {
      "text/plain": [
       "pandas.core.frame.DataFrame"
      ]
     },
     "execution_count": 20,
     "metadata": {},
     "output_type": "execute_result"
    }
   ],
   "source": [
    "# type of data\n",
    "type(df)"
   ]
  },
  {
   "cell_type": "code",
   "execution_count": 21,
   "metadata": {},
   "outputs": [
    {
     "data": {
      "text/plain": [
       "(6, 4)"
      ]
     },
     "execution_count": 21,
     "metadata": {},
     "output_type": "execute_result"
    }
   ],
   "source": [
    "# number of rows and columns\n",
    "df.shape"
   ]
  },
  {
   "cell_type": "code",
   "execution_count": 22,
   "metadata": {},
   "outputs": [
    {
     "name": "stdout",
     "output_type": "stream",
     "text": [
      "<class 'pandas.core.frame.DataFrame'>\n",
      "Index: 6 entries, index1 to index6\n",
      "Data columns (total 4 columns):\n",
      "A    6 non-null float64\n",
      "B    6 non-null float64\n",
      "C    6 non-null float64\n",
      "D    6 non-null float64\n",
      "dtypes: float64(4)\n",
      "memory usage: 240.0+ bytes\n"
     ]
    }
   ],
   "source": [
    "# information about data\n",
    "df.info()"
   ]
  },
  {
   "cell_type": "code",
   "execution_count": 23,
   "metadata": {},
   "outputs": [
    {
     "data": {
      "text/html": [
       "<div>\n",
       "<style scoped>\n",
       "    .dataframe tbody tr th:only-of-type {\n",
       "        vertical-align: middle;\n",
       "    }\n",
       "\n",
       "    .dataframe tbody tr th {\n",
       "        vertical-align: top;\n",
       "    }\n",
       "\n",
       "    .dataframe thead th {\n",
       "        text-align: right;\n",
       "    }\n",
       "</style>\n",
       "<table border=\"1\" class=\"dataframe\">\n",
       "  <thead>\n",
       "    <tr style=\"text-align: right;\">\n",
       "      <th></th>\n",
       "      <th>A</th>\n",
       "      <th>B</th>\n",
       "      <th>C</th>\n",
       "      <th>D</th>\n",
       "    </tr>\n",
       "  </thead>\n",
       "  <tbody>\n",
       "    <tr>\n",
       "      <th>count</th>\n",
       "      <td>6.000000</td>\n",
       "      <td>6.000000</td>\n",
       "      <td>6.000000</td>\n",
       "      <td>6.000000</td>\n",
       "    </tr>\n",
       "    <tr>\n",
       "      <th>mean</th>\n",
       "      <td>-0.238033</td>\n",
       "      <td>0.092886</td>\n",
       "      <td>0.416029</td>\n",
       "      <td>0.197064</td>\n",
       "    </tr>\n",
       "    <tr>\n",
       "      <th>std</th>\n",
       "      <td>0.974665</td>\n",
       "      <td>1.260956</td>\n",
       "      <td>0.707197</td>\n",
       "      <td>0.937517</td>\n",
       "    </tr>\n",
       "    <tr>\n",
       "      <th>min</th>\n",
       "      <td>-1.627352</td>\n",
       "      <td>-1.658283</td>\n",
       "      <td>-0.660962</td>\n",
       "      <td>-1.582012</td>\n",
       "    </tr>\n",
       "    <tr>\n",
       "      <th>25%</th>\n",
       "      <td>-0.936375</td>\n",
       "      <td>-0.764241</td>\n",
       "      <td>0.050109</td>\n",
       "      <td>0.200404</td>\n",
       "    </tr>\n",
       "    <tr>\n",
       "      <th>50%</th>\n",
       "      <td>0.013643</td>\n",
       "      <td>0.224334</td>\n",
       "      <td>0.491450</td>\n",
       "      <td>0.399946</td>\n",
       "    </tr>\n",
       "    <tr>\n",
       "      <th>75%</th>\n",
       "      <td>0.524150</td>\n",
       "      <td>1.110804</td>\n",
       "      <td>0.823618</td>\n",
       "      <td>0.598989</td>\n",
       "    </tr>\n",
       "    <tr>\n",
       "      <th>max</th>\n",
       "      <td>0.730595</td>\n",
       "      <td>1.454400</td>\n",
       "      <td>1.336898</td>\n",
       "      <td>1.165278</td>\n",
       "    </tr>\n",
       "  </tbody>\n",
       "</table>\n",
       "</div>"
      ],
      "text/plain": [
       "              A         B         C         D\n",
       "count  6.000000  6.000000  6.000000  6.000000\n",
       "mean  -0.238033  0.092886  0.416029  0.197064\n",
       "std    0.974665  1.260956  0.707197  0.937517\n",
       "min   -1.627352 -1.658283 -0.660962 -1.582012\n",
       "25%   -0.936375 -0.764241  0.050109  0.200404\n",
       "50%    0.013643  0.224334  0.491450  0.399946\n",
       "75%    0.524150  1.110804  0.823618  0.598989\n",
       "max    0.730595  1.454400  1.336898  1.165278"
      ]
     },
     "execution_count": 23,
     "metadata": {},
     "output_type": "execute_result"
    }
   ],
   "source": [
    "df.describe()"
   ]
  },
  {
   "cell_type": "markdown",
   "metadata": {},
   "source": [
    "### Series"
   ]
  },
  {
   "cell_type": "code",
   "execution_count": 24,
   "metadata": {},
   "outputs": [
    {
     "data": {
      "text/plain": [
       "0    1.0\n",
       "1    3.0\n",
       "2    4.0\n",
       "3    NaN\n",
       "4    4.0\n",
       "5    2.0\n",
       "dtype: float64"
      ]
     },
     "execution_count": 24,
     "metadata": {},
     "output_type": "execute_result"
    }
   ],
   "source": [
    "# series --> 1D set of data with an index\n",
    "s = pd.Series([1, 3, 4, np.nan, 4, 2])\n",
    "s"
   ]
  },
  {
   "cell_type": "code",
   "execution_count": 25,
   "metadata": {},
   "outputs": [
    {
     "data": {
      "text/plain": [
       "a    1.0\n",
       "b    3.0\n",
       "c    4.0\n",
       "d    NaN\n",
       "e    4.0\n",
       "f    2.0\n",
       "dtype: float64"
      ]
     },
     "execution_count": 25,
     "metadata": {},
     "output_type": "execute_result"
    }
   ],
   "source": [
    "# adding index later\n",
    "s.index = ['a','b','c','d','e', 'f']\n",
    "s"
   ]
  },
  {
   "cell_type": "code",
   "execution_count": 26,
   "metadata": {},
   "outputs": [
    {
     "data": {
      "text/plain": [
       "a    False\n",
       "b    False\n",
       "c    False\n",
       "d     True\n",
       "e    False\n",
       "f    False\n",
       "dtype: bool"
      ]
     },
     "execution_count": 26,
     "metadata": {},
     "output_type": "execute_result"
    }
   ],
   "source": [
    "# Missing data\n",
    "s.isnull()"
   ]
  },
  {
   "cell_type": "markdown",
   "metadata": {},
   "source": [
    "### Plotting"
   ]
  },
  {
   "cell_type": "code",
   "execution_count": 27,
   "metadata": {},
   "outputs": [],
   "source": [
    "# plotting \n",
    "import matplotlib.pyplot as plt\n",
    "%matplotlib inline"
   ]
  },
  {
   "cell_type": "code",
   "execution_count": 28,
   "metadata": {},
   "outputs": [
    {
     "data": {
      "text/plain": [
       "<matplotlib.axes._subplots.AxesSubplot at 0x7f3377435a58>"
      ]
     },
     "execution_count": 28,
     "metadata": {},
     "output_type": "execute_result"
    },
    {
     "data": {
      "image/png": "[encoded data removed]",
      "text/plain": [
       "<Figure size 432x288 with 1 Axes>"
      ]
     },
     "metadata": {},
     "output_type": "display_data"
    }
   ],
   "source": [
    "s.plot()"
   ]
  },
  {
   "cell_type": "code",
   "execution_count": 29,
   "metadata": {},
   "outputs": [
    {
     "data": {
      "text/plain": [
       "<matplotlib.axes._subplots.AxesSubplot at 0x7f3375395518>"
      ]
     },
     "execution_count": 29,
     "metadata": {},
     "output_type": "execute_result"
    },
    {
     "data": {
      "image/png": "[encoded data removed]",
      "text/plain": [
       "<Figure size 432x288 with 1 Axes>"
      ]
     },
     "metadata": {},
     "output_type": "display_data"
    }
   ],
   "source": [
    "df.plot()"
   ]
  },
  {
   "cell_type": "markdown",
   "metadata": {},
   "source": [
    "### selecting data"
   ]
  },
  {
   "cell_type": "code",
   "execution_count": 30,
   "metadata": {},
   "outputs": [
    {
     "data": {
      "text/plain": [
       "d    NaN\n",
       "e    4.0\n",
       "f    2.0\n",
       "dtype: float64"
      ]
     },
     "execution_count": 30,
     "metadata": {},
     "output_type": "execute_result"
    }
   ],
   "source": [
    "# see portion of data in dataframe or series\n",
    "s[s.index > 'c']"
   ]
  },
  {
   "cell_type": "code",
   "execution_count": 31,
   "metadata": {},
   "outputs": [
    {
     "data": {
      "text/plain": [
       "a    1.0\n",
       "b    3.0\n",
       "c    4.0\n",
       "e    4.0\n",
       "f    2.0\n",
       "dtype: float64"
      ]
     },
     "execution_count": 31,
     "metadata": {},
     "output_type": "execute_result"
    }
   ],
   "source": [
    "s[s.isnull() == False]"
   ]
  },
  {
   "cell_type": "code",
   "execution_count": 32,
   "metadata": {},
   "outputs": [
    {
     "data": {
      "text/html": [
       "<div>\n",
       "<style scoped>\n",
       "    .dataframe tbody tr th:only-of-type {\n",
       "        vertical-align: middle;\n",
       "    }\n",
       "\n",
       "    .dataframe tbody tr th {\n",
       "        vertical-align: top;\n",
       "    }\n",
       "\n",
       "    .dataframe thead th {\n",
       "        text-align: right;\n",
       "    }\n",
       "</style>\n",
       "<table border=\"1\" class=\"dataframe\">\n",
       "  <thead>\n",
       "    <tr style=\"text-align: right;\">\n",
       "      <th></th>\n",
       "      <th>A</th>\n",
       "      <th>B</th>\n",
       "      <th>C</th>\n",
       "      <th>D</th>\n",
       "    </tr>\n",
       "  </thead>\n",
       "  <tbody>\n",
       "    <tr>\n",
       "      <th>index1</th>\n",
       "      <td>0.730595</td>\n",
       "      <td>1.187878</td>\n",
       "      <td>-0.057026</td>\n",
       "      <td>0.497039</td>\n",
       "    </tr>\n",
       "    <tr>\n",
       "      <th>index2</th>\n",
       "      <td>0.163752</td>\n",
       "      <td>-1.658283</td>\n",
       "      <td>-0.660962</td>\n",
       "      <td>1.165278</td>\n",
       "    </tr>\n",
       "    <tr>\n",
       "      <th>index3</th>\n",
       "      <td>-1.203011</td>\n",
       "      <td>1.454400</td>\n",
       "      <td>0.611386</td>\n",
       "      <td>0.166255</td>\n",
       "    </tr>\n",
       "    <tr>\n",
       "      <th>index4</th>\n",
       "      <td>0.644283</td>\n",
       "      <td>-0.875351</td>\n",
       "      <td>1.336898</td>\n",
       "      <td>0.632972</td>\n",
       "    </tr>\n",
       "    <tr>\n",
       "      <th>index5</th>\n",
       "      <td>-0.136466</td>\n",
       "      <td>0.879580</td>\n",
       "      <td>0.894363</td>\n",
       "      <td>0.302853</td>\n",
       "    </tr>\n",
       "  </tbody>\n",
       "</table>\n",
       "</div>"
      ],
      "text/plain": [
       "               A         B         C         D\n",
       "index1  0.730595  1.187878 -0.057026  0.497039\n",
       "index2  0.163752 -1.658283 -0.660962  1.165278\n",
       "index3 -1.203011  1.454400  0.611386  0.166255\n",
       "index4  0.644283 -0.875351  1.336898  0.632972\n",
       "index5 -0.136466  0.879580  0.894363  0.302853"
      ]
     },
     "execution_count": 32,
     "metadata": {},
     "output_type": "execute_result"
    }
   ],
   "source": [
    "df.head()"
   ]
  },
  {
   "cell_type": "code",
   "execution_count": 33,
   "metadata": {},
   "outputs": [
    {
     "data": {
      "text/plain": [
       "index1    0.730595\n",
       "index2    0.163752\n",
       "index3   -1.203011\n",
       "index4    0.644283\n",
       "index5   -0.136466\n",
       "index6   -1.627352\n",
       "Name: A, dtype: float64"
      ]
     },
     "execution_count": 33,
     "metadata": {},
     "output_type": "execute_result"
    }
   ],
   "source": [
    "# select column\n",
    "df.A"
   ]
  },
  {
   "cell_type": "code",
   "execution_count": 34,
   "metadata": {},
   "outputs": [
    {
     "data": {
      "text/plain": [
       "index1    1.187878\n",
       "index2   -1.658283\n",
       "index3    1.454400\n",
       "index4   -0.875351\n",
       "index5    0.879580\n",
       "index6   -0.430911\n",
       "Name: B, dtype: float64"
      ]
     },
     "execution_count": 34,
     "metadata": {},
     "output_type": "execute_result"
    }
   ],
   "source": [
    "df['B']"
   ]
  },
  {
   "cell_type": "code",
   "execution_count": 35,
   "metadata": {},
   "outputs": [
    {
     "data": {
      "text/plain": [
       "A    float64\n",
       "B    float64\n",
       "C    float64\n",
       "D    float64\n",
       "dtype: object"
      ]
     },
     "execution_count": 35,
     "metadata": {},
     "output_type": "execute_result"
    }
   ],
   "source": [
    "# column types\n",
    "df.dtypes"
   ]
  },
  {
   "cell_type": "code",
   "execution_count": 36,
   "metadata": {},
   "outputs": [
    {
     "data": {
      "text/plain": [
       "Index(['A', 'B', 'C', 'D'], dtype='object')"
      ]
     },
     "execution_count": 36,
     "metadata": {},
     "output_type": "execute_result"
    }
   ],
   "source": [
    "# column names\n",
    "df.columns"
   ]
  },
  {
   "cell_type": "code",
   "execution_count": 37,
   "metadata": {},
   "outputs": [
    {
     "data": {
      "text/html": [
       "<div>\n",
       "<style scoped>\n",
       "    .dataframe tbody tr th:only-of-type {\n",
       "        vertical-align: middle;\n",
       "    }\n",
       "\n",
       "    .dataframe tbody tr th {\n",
       "        vertical-align: top;\n",
       "    }\n",
       "\n",
       "    .dataframe thead th {\n",
       "        text-align: right;\n",
       "    }\n",
       "</style>\n",
       "<table border=\"1\" class=\"dataframe\">\n",
       "  <thead>\n",
       "    <tr style=\"text-align: right;\">\n",
       "      <th></th>\n",
       "      <th>A</th>\n",
       "      <th>B</th>\n",
       "    </tr>\n",
       "  </thead>\n",
       "  <tbody>\n",
       "    <tr>\n",
       "      <th>index1</th>\n",
       "      <td>0.730595</td>\n",
       "      <td>1.187878</td>\n",
       "    </tr>\n",
       "    <tr>\n",
       "      <th>index2</th>\n",
       "      <td>0.163752</td>\n",
       "      <td>-1.658283</td>\n",
       "    </tr>\n",
       "    <tr>\n",
       "      <th>index3</th>\n",
       "      <td>-1.203011</td>\n",
       "      <td>1.454400</td>\n",
       "    </tr>\n",
       "    <tr>\n",
       "      <th>index4</th>\n",
       "      <td>0.644283</td>\n",
       "      <td>-0.875351</td>\n",
       "    </tr>\n",
       "    <tr>\n",
       "      <th>index5</th>\n",
       "      <td>-0.136466</td>\n",
       "      <td>0.879580</td>\n",
       "    </tr>\n",
       "    <tr>\n",
       "      <th>index6</th>\n",
       "      <td>-1.627352</td>\n",
       "      <td>-0.430911</td>\n",
       "    </tr>\n",
       "  </tbody>\n",
       "</table>\n",
       "</div>"
      ],
      "text/plain": [
       "               A         B\n",
       "index1  0.730595  1.187878\n",
       "index2  0.163752 -1.658283\n",
       "index3 -1.203011  1.454400\n",
       "index4  0.644283 -0.875351\n",
       "index5 -0.136466  0.879580\n",
       "index6 -1.627352 -0.430911"
      ]
     },
     "execution_count": 37,
     "metadata": {},
     "output_type": "execute_result"
    }
   ],
   "source": [
    "# multiple columns\n",
    "df[ ['A','B']]"
   ]
  },
  {
   "cell_type": "code",
   "execution_count": 38,
   "metadata": {},
   "outputs": [
    {
     "data": {
      "text/plain": [
       "6"
      ]
     },
     "execution_count": 38,
     "metadata": {},
     "output_type": "execute_result"
    }
   ],
   "source": [
    "# number of rows\n",
    "df.shape[0]"
   ]
  },
  {
   "cell_type": "code",
   "execution_count": 39,
   "metadata": {},
   "outputs": [
    {
     "data": {
      "text/plain": [
       "A    0.163752\n",
       "B   -1.658283\n",
       "C   -0.660962\n",
       "D    1.165278\n",
       "Name: index2, dtype: float64"
      ]
     },
     "execution_count": 39,
     "metadata": {},
     "output_type": "execute_result"
    }
   ],
   "source": [
    "# select label / name\n",
    "df.loc['index2']"
   ]
  },
  {
   "cell_type": "code",
   "execution_count": 40,
   "metadata": {},
   "outputs": [
    {
     "data": {
      "text/plain": [
       "A   -1.203011\n",
       "C    0.611386\n",
       "Name: index3, dtype: float64"
      ]
     },
     "execution_count": 40,
     "metadata": {},
     "output_type": "execute_result"
    }
   ],
   "source": [
    "# label and column intersection\n",
    "df.loc['index3', ['A', 'C']]"
   ]
  },
  {
   "cell_type": "code",
   "execution_count": 41,
   "metadata": {},
   "outputs": [
    {
     "data": {
      "text/plain": [
       "1.1652775947912888"
      ]
     },
     "execution_count": 41,
     "metadata": {},
     "output_type": "execute_result"
    }
   ],
   "source": [
    "# select by label location/ index\n",
    "df.iloc[1,3]"
   ]
  },
  {
   "cell_type": "code",
   "execution_count": 42,
   "metadata": {},
   "outputs": [
    {
     "name": "stderr",
     "output_type": "stream",
     "text": [
      "/usr/local/lib/python3.5/dist-packages/ipykernel_launcher.py:2: DeprecationWarning: \n",
      ".ix is deprecated. Please use\n",
      ".loc for label based indexing or\n",
      ".iloc for positional indexing\n",
      "\n",
      "See the documentation here:\n",
      "http://pandas.pydata.org/pandas-docs/stable/indexing.html#ix-indexer-is-deprecated\n",
      "  \n"
     ]
    },
    {
     "data": {
      "text/plain": [
       "A    0.730595\n",
       "B    1.187878\n",
       "C   -0.057026\n",
       "D    0.497039\n",
       "Name: index1, dtype: float64"
      ]
     },
     "execution_count": 42,
     "metadata": {},
     "output_type": "execute_result"
    }
   ],
   "source": [
    "# get rows by name or number\n",
    "df.ix[0]"
   ]
  },
  {
   "cell_type": "code",
   "execution_count": 43,
   "metadata": {},
   "outputs": [
    {
     "data": {
      "text/html": [
       "<div>\n",
       "<style scoped>\n",
       "    .dataframe tbody tr th:only-of-type {\n",
       "        vertical-align: middle;\n",
       "    }\n",
       "\n",
       "    .dataframe tbody tr th {\n",
       "        vertical-align: top;\n",
       "    }\n",
       "\n",
       "    .dataframe thead th {\n",
       "        text-align: right;\n",
       "    }\n",
       "</style>\n",
       "<table border=\"1\" class=\"dataframe\">\n",
       "  <thead>\n",
       "    <tr style=\"text-align: right;\">\n",
       "      <th></th>\n",
       "      <th>A</th>\n",
       "      <th>B</th>\n",
       "      <th>C</th>\n",
       "      <th>D</th>\n",
       "    </tr>\n",
       "  </thead>\n",
       "  <tbody>\n",
       "    <tr>\n",
       "      <th>index2</th>\n",
       "      <td>0.163752</td>\n",
       "      <td>-1.658283</td>\n",
       "      <td>-0.660962</td>\n",
       "      <td>1.165278</td>\n",
       "    </tr>\n",
       "    <tr>\n",
       "      <th>index1</th>\n",
       "      <td>0.730595</td>\n",
       "      <td>1.187878</td>\n",
       "      <td>-0.057026</td>\n",
       "      <td>0.497039</td>\n",
       "    </tr>\n",
       "  </tbody>\n",
       "</table>\n",
       "</div>"
      ],
      "text/plain": [
       "               A         B         C         D\n",
       "index2  0.163752 -1.658283 -0.660962  1.165278\n",
       "index1  0.730595  1.187878 -0.057026  0.497039"
      ]
     },
     "execution_count": 43,
     "metadata": {},
     "output_type": "execute_result"
    }
   ],
   "source": [
    "df.ix[ ['index2', 'index1' ]]"
   ]
  },
  {
   "cell_type": "code",
   "execution_count": 44,
   "metadata": {},
   "outputs": [
    {
     "data": {
      "text/html": [
       "<div>\n",
       "<style scoped>\n",
       "    .dataframe tbody tr th:only-of-type {\n",
       "        vertical-align: middle;\n",
       "    }\n",
       "\n",
       "    .dataframe tbody tr th {\n",
       "        vertical-align: top;\n",
       "    }\n",
       "\n",
       "    .dataframe thead th {\n",
       "        text-align: right;\n",
       "    }\n",
       "</style>\n",
       "<table border=\"1\" class=\"dataframe\">\n",
       "  <thead>\n",
       "    <tr style=\"text-align: right;\">\n",
       "      <th></th>\n",
       "      <th>A</th>\n",
       "      <th>D</th>\n",
       "    </tr>\n",
       "  </thead>\n",
       "  <tbody>\n",
       "    <tr>\n",
       "      <th>index1</th>\n",
       "      <td>0.730595</td>\n",
       "      <td>0.497039</td>\n",
       "    </tr>\n",
       "    <tr>\n",
       "      <th>index4</th>\n",
       "      <td>0.644283</td>\n",
       "      <td>0.632972</td>\n",
       "    </tr>\n",
       "  </tbody>\n",
       "</table>\n",
       "</div>"
      ],
      "text/plain": [
       "               A         D\n",
       "index1  0.730595  0.497039\n",
       "index4  0.644283  0.632972"
      ]
     },
     "execution_count": 44,
     "metadata": {},
     "output_type": "execute_result"
    }
   ],
   "source": [
    "# df.ix[row, column]\n",
    "df.ix[ [0,3], ['A', 'D']]"
   ]
  },
  {
   "cell_type": "code",
   "execution_count": 45,
   "metadata": {},
   "outputs": [
    {
     "data": {
      "text/plain": [
       "A    0.644283\n",
       "B   -0.875351\n",
       "C    1.336898\n",
       "D    0.632972\n",
       "Name: index4, dtype: float64"
      ]
     },
     "execution_count": 45,
     "metadata": {},
     "output_type": "execute_result"
    }
   ],
   "source": [
    "df.iloc[3, :]"
   ]
  },
  {
   "cell_type": "code",
   "execution_count": 46,
   "metadata": {},
   "outputs": [
    {
     "data": {
      "text/plain": [
       "index1   -0.057026\n",
       "index2   -0.660962\n",
       "index3    0.611386\n",
       "index4    1.336898\n",
       "index5    0.894363\n",
       "index6    0.371515\n",
       "Name: C, dtype: float64"
      ]
     },
     "execution_count": 46,
     "metadata": {},
     "output_type": "execute_result"
    }
   ],
   "source": [
    "df.iloc[:, 2]"
   ]
  },
  {
   "cell_type": "code",
   "execution_count": 47,
   "metadata": {},
   "outputs": [
    {
     "data": {
      "text/html": [
       "<div>\n",
       "<style scoped>\n",
       "    .dataframe tbody tr th:only-of-type {\n",
       "        vertical-align: middle;\n",
       "    }\n",
       "\n",
       "    .dataframe tbody tr th {\n",
       "        vertical-align: top;\n",
       "    }\n",
       "\n",
       "    .dataframe thead th {\n",
       "        text-align: right;\n",
       "    }\n",
       "</style>\n",
       "<table border=\"1\" class=\"dataframe\">\n",
       "  <thead>\n",
       "    <tr style=\"text-align: right;\">\n",
       "      <th></th>\n",
       "      <th>A</th>\n",
       "      <th>B</th>\n",
       "      <th>C</th>\n",
       "      <th>D</th>\n",
       "      <th>Z</th>\n",
       "    </tr>\n",
       "  </thead>\n",
       "  <tbody>\n",
       "    <tr>\n",
       "      <th>index1</th>\n",
       "      <td>0.730595</td>\n",
       "      <td>1.187878</td>\n",
       "      <td>-0.057026</td>\n",
       "      <td>0.497039</td>\n",
       "      <td>1</td>\n",
       "    </tr>\n",
       "    <tr>\n",
       "      <th>index2</th>\n",
       "      <td>0.163752</td>\n",
       "      <td>-1.658283</td>\n",
       "      <td>-0.660962</td>\n",
       "      <td>1.165278</td>\n",
       "      <td>3</td>\n",
       "    </tr>\n",
       "    <tr>\n",
       "      <th>index3</th>\n",
       "      <td>-1.203011</td>\n",
       "      <td>1.454400</td>\n",
       "      <td>0.611386</td>\n",
       "      <td>0.166255</td>\n",
       "      <td>4</td>\n",
       "    </tr>\n",
       "    <tr>\n",
       "      <th>index4</th>\n",
       "      <td>0.644283</td>\n",
       "      <td>-0.875351</td>\n",
       "      <td>1.336898</td>\n",
       "      <td>0.632972</td>\n",
       "      <td>5</td>\n",
       "    </tr>\n",
       "    <tr>\n",
       "      <th>index5</th>\n",
       "      <td>-0.136466</td>\n",
       "      <td>0.879580</td>\n",
       "      <td>0.894363</td>\n",
       "      <td>0.302853</td>\n",
       "      <td>6</td>\n",
       "    </tr>\n",
       "    <tr>\n",
       "      <th>index6</th>\n",
       "      <td>-1.627352</td>\n",
       "      <td>-0.430911</td>\n",
       "      <td>0.371515</td>\n",
       "      <td>-1.582012</td>\n",
       "      <td>8</td>\n",
       "    </tr>\n",
       "  </tbody>\n",
       "</table>\n",
       "</div>"
      ],
      "text/plain": [
       "               A         B         C         D  Z\n",
       "index1  0.730595  1.187878 -0.057026  0.497039  1\n",
       "index2  0.163752 -1.658283 -0.660962  1.165278  3\n",
       "index3 -1.203011  1.454400  0.611386  0.166255  4\n",
       "index4  0.644283 -0.875351  1.336898  0.632972  5\n",
       "index5 -0.136466  0.879580  0.894363  0.302853  6\n",
       "index6 -1.627352 -0.430911  0.371515 -1.582012  8"
      ]
     },
     "execution_count": 47,
     "metadata": {},
     "output_type": "execute_result"
    }
   ],
   "source": [
    "# add column to dataframe\n",
    "df['Z'] = [1,3,4,5,6,8]\n",
    "df"
   ]
  },
  {
   "cell_type": "code",
   "execution_count": 48,
   "metadata": {},
   "outputs": [
    {
     "data": {
      "text/html": [
       "<div>\n",
       "<style scoped>\n",
       "    .dataframe tbody tr th:only-of-type {\n",
       "        vertical-align: middle;\n",
       "    }\n",
       "\n",
       "    .dataframe tbody tr th {\n",
       "        vertical-align: top;\n",
       "    }\n",
       "\n",
       "    .dataframe thead th {\n",
       "        text-align: right;\n",
       "    }\n",
       "</style>\n",
       "<table border=\"1\" class=\"dataframe\">\n",
       "  <thead>\n",
       "    <tr style=\"text-align: right;\">\n",
       "      <th></th>\n",
       "      <th>A</th>\n",
       "      <th>B</th>\n",
       "      <th>C</th>\n",
       "      <th>D</th>\n",
       "      <th>Z</th>\n",
       "    </tr>\n",
       "  </thead>\n",
       "  <tbody>\n",
       "    <tr>\n",
       "      <th>index1</th>\n",
       "      <td>0.730595</td>\n",
       "      <td>1.187878</td>\n",
       "      <td>-0.057026</td>\n",
       "      <td>0.497039</td>\n",
       "      <td>1</td>\n",
       "    </tr>\n",
       "  </tbody>\n",
       "</table>\n",
       "</div>"
      ],
      "text/plain": [
       "               A         B         C         D  Z\n",
       "index1  0.730595  1.187878 -0.057026  0.497039  1"
      ]
     },
     "execution_count": 48,
     "metadata": {},
     "output_type": "execute_result"
    }
   ],
   "source": [
    "df[df['A'] == df['A'].max()]"
   ]
  },
  {
   "cell_type": "markdown",
   "metadata": {},
   "source": [
    "### function"
   ]
  },
  {
   "cell_type": "code",
   "execution_count": 49,
   "metadata": {},
   "outputs": [
    {
     "data": {
      "text/plain": [
       "index1    1.1\n",
       "index2    3.1\n",
       "index3    4.1\n",
       "index4    5.1\n",
       "index5    6.1\n",
       "index6    8.1\n",
       "Name: Z, dtype: float64"
      ]
     },
     "execution_count": 49,
     "metadata": {},
     "output_type": "execute_result"
    }
   ],
   "source": [
    "#function\n",
    "df.Z.apply(lambda Z: Z + 0.1)"
   ]
  },
  {
   "cell_type": "code",
   "execution_count": 50,
   "metadata": {},
   "outputs": [
    {
     "data": {
      "text/plain": [
       "-0.23803309717511253"
      ]
     },
     "execution_count": 50,
     "metadata": {},
     "output_type": "execute_result"
    }
   ],
   "source": [
    "#built-in\n",
    "df.A.mean()"
   ]
  },
  {
   "cell_type": "code",
   "execution_count": 51,
   "metadata": {},
   "outputs": [
    {
     "data": {
      "text/plain": [
       "0.7305949004218479"
      ]
     },
     "execution_count": 51,
     "metadata": {},
     "output_type": "execute_result"
    }
   ],
   "source": [
    "df.A.max()"
   ]
  },
  {
   "cell_type": "code",
   "execution_count": 52,
   "metadata": {},
   "outputs": [
    {
     "data": {
      "text/plain": [
       "-1.6273516826385388"
      ]
     },
     "execution_count": 52,
     "metadata": {},
     "output_type": "execute_result"
    }
   ],
   "source": [
    "df.A.min()"
   ]
  },
  {
   "cell_type": "code",
   "execution_count": 53,
   "metadata": {},
   "outputs": [
    {
     "data": {
      "text/plain": [
       "A    6\n",
       "B    6\n",
       "C    6\n",
       "D    6\n",
       "Z    6\n",
       "dtype: int64"
      ]
     },
     "execution_count": 53,
     "metadata": {},
     "output_type": "execute_result"
    }
   ],
   "source": [
    "df.count()"
   ]
  },
  {
   "cell_type": "code",
   "execution_count": 54,
   "metadata": {},
   "outputs": [
    {
     "data": {
      "text/html": [
       "<div>\n",
       "<style scoped>\n",
       "    .dataframe tbody tr th:only-of-type {\n",
       "        vertical-align: middle;\n",
       "    }\n",
       "\n",
       "    .dataframe tbody tr th {\n",
       "        vertical-align: top;\n",
       "    }\n",
       "\n",
       "    .dataframe thead th {\n",
       "        text-align: right;\n",
       "    }\n",
       "</style>\n",
       "<table border=\"1\" class=\"dataframe\">\n",
       "  <thead>\n",
       "    <tr style=\"text-align: right;\">\n",
       "      <th></th>\n",
       "      <th>A</th>\n",
       "      <th>B</th>\n",
       "      <th>C</th>\n",
       "      <th>D</th>\n",
       "      <th>Z</th>\n",
       "    </tr>\n",
       "  </thead>\n",
       "  <tbody>\n",
       "    <tr>\n",
       "      <th>A</th>\n",
       "      <td>1.000000</td>\n",
       "      <td>-0.163294</td>\n",
       "      <td>-0.045417</td>\n",
       "      <td>0.782776</td>\n",
       "      <td>-0.657204</td>\n",
       "    </tr>\n",
       "    <tr>\n",
       "      <th>B</th>\n",
       "      <td>-0.163294</td>\n",
       "      <td>1.000000</td>\n",
       "      <td>0.256123</td>\n",
       "      <td>-0.138042</td>\n",
       "      <td>-0.197453</td>\n",
       "    </tr>\n",
       "    <tr>\n",
       "      <th>C</th>\n",
       "      <td>-0.045417</td>\n",
       "      <td>0.256123</td>\n",
       "      <td>1.000000</td>\n",
       "      <td>-0.198932</td>\n",
       "      <td>0.488496</td>\n",
       "    </tr>\n",
       "    <tr>\n",
       "      <th>D</th>\n",
       "      <td>0.782776</td>\n",
       "      <td>-0.138042</td>\n",
       "      <td>-0.198932</td>\n",
       "      <td>1.000000</td>\n",
       "      <td>-0.732204</td>\n",
       "    </tr>\n",
       "    <tr>\n",
       "      <th>Z</th>\n",
       "      <td>-0.657204</td>\n",
       "      <td>-0.197453</td>\n",
       "      <td>0.488496</td>\n",
       "      <td>-0.732204</td>\n",
       "      <td>1.000000</td>\n",
       "    </tr>\n",
       "  </tbody>\n",
       "</table>\n",
       "</div>"
      ],
      "text/plain": [
       "          A         B         C         D         Z\n",
       "A  1.000000 -0.163294 -0.045417  0.782776 -0.657204\n",
       "B -0.163294  1.000000  0.256123 -0.138042 -0.197453\n",
       "C -0.045417  0.256123  1.000000 -0.198932  0.488496\n",
       "D  0.782776 -0.138042 -0.198932  1.000000 -0.732204\n",
       "Z -0.657204 -0.197453  0.488496 -0.732204  1.000000"
      ]
     },
     "execution_count": 54,
     "metadata": {},
     "output_type": "execute_result"
    }
   ],
   "source": [
    "#correlation between columns\n",
    "df.corr()"
   ]
  },
  {
   "cell_type": "code",
   "execution_count": 55,
   "metadata": {},
   "outputs": [
    {
     "data": {
      "text/html": [
       "<div>\n",
       "<style scoped>\n",
       "    .dataframe tbody tr th:only-of-type {\n",
       "        vertical-align: middle;\n",
       "    }\n",
       "\n",
       "    .dataframe tbody tr th {\n",
       "        vertical-align: top;\n",
       "    }\n",
       "\n",
       "    .dataframe thead th {\n",
       "        text-align: right;\n",
       "    }\n",
       "</style>\n",
       "<table border=\"1\" class=\"dataframe\">\n",
       "  <thead>\n",
       "    <tr style=\"text-align: right;\">\n",
       "      <th></th>\n",
       "      <th>A</th>\n",
       "      <th>B</th>\n",
       "      <th>C</th>\n",
       "      <th>D</th>\n",
       "      <th>Z</th>\n",
       "    </tr>\n",
       "  </thead>\n",
       "  <tbody>\n",
       "    <tr>\n",
       "      <th>index1</th>\n",
       "      <td>0.730595</td>\n",
       "      <td>1.187878</td>\n",
       "      <td>-0.057026</td>\n",
       "      <td>0.497039</td>\n",
       "      <td>1.0</td>\n",
       "    </tr>\n",
       "    <tr>\n",
       "      <th>index2</th>\n",
       "      <td>0.730595</td>\n",
       "      <td>1.187878</td>\n",
       "      <td>-0.057026</td>\n",
       "      <td>1.165278</td>\n",
       "      <td>3.0</td>\n",
       "    </tr>\n",
       "    <tr>\n",
       "      <th>index3</th>\n",
       "      <td>0.730595</td>\n",
       "      <td>1.454400</td>\n",
       "      <td>0.611386</td>\n",
       "      <td>1.165278</td>\n",
       "      <td>4.0</td>\n",
       "    </tr>\n",
       "    <tr>\n",
       "      <th>index4</th>\n",
       "      <td>0.730595</td>\n",
       "      <td>1.454400</td>\n",
       "      <td>1.336898</td>\n",
       "      <td>1.165278</td>\n",
       "      <td>5.0</td>\n",
       "    </tr>\n",
       "    <tr>\n",
       "      <th>index5</th>\n",
       "      <td>0.730595</td>\n",
       "      <td>1.454400</td>\n",
       "      <td>1.336898</td>\n",
       "      <td>1.165278</td>\n",
       "      <td>6.0</td>\n",
       "    </tr>\n",
       "    <tr>\n",
       "      <th>index6</th>\n",
       "      <td>0.730595</td>\n",
       "      <td>1.454400</td>\n",
       "      <td>1.336898</td>\n",
       "      <td>1.165278</td>\n",
       "      <td>8.0</td>\n",
       "    </tr>\n",
       "  </tbody>\n",
       "</table>\n",
       "</div>"
      ],
      "text/plain": [
       "               A         B         C         D    Z\n",
       "index1  0.730595  1.187878 -0.057026  0.497039  1.0\n",
       "index2  0.730595  1.187878 -0.057026  1.165278  3.0\n",
       "index3  0.730595  1.454400  0.611386  1.165278  4.0\n",
       "index4  0.730595  1.454400  1.336898  1.165278  5.0\n",
       "index5  0.730595  1.454400  1.336898  1.165278  6.0\n",
       "index6  0.730595  1.454400  1.336898  1.165278  8.0"
      ]
     },
     "execution_count": 55,
     "metadata": {},
     "output_type": "execute_result"
    }
   ],
   "source": [
    "# cummulative max\n",
    "df.cummax()"
   ]
  },
  {
   "cell_type": "markdown",
   "metadata": {},
   "source": [
    "### aggregation"
   ]
  },
  {
   "cell_type": "code",
   "execution_count": 56,
   "metadata": {},
   "outputs": [
    {
     "data": {
      "text/html": [
       "<div>\n",
       "<style scoped>\n",
       "    .dataframe tbody tr th:only-of-type {\n",
       "        vertical-align: middle;\n",
       "    }\n",
       "\n",
       "    .dataframe tbody tr th {\n",
       "        vertical-align: top;\n",
       "    }\n",
       "\n",
       "    .dataframe thead th {\n",
       "        text-align: right;\n",
       "    }\n",
       "</style>\n",
       "<table border=\"1\" class=\"dataframe\">\n",
       "  <thead>\n",
       "    <tr style=\"text-align: right;\">\n",
       "      <th></th>\n",
       "      <th>age</th>\n",
       "      <th>grade</th>\n",
       "      <th>phone</th>\n",
       "    </tr>\n",
       "  </thead>\n",
       "  <tbody>\n",
       "    <tr>\n",
       "      <th>alice</th>\n",
       "      <td>13</td>\n",
       "      <td>78</td>\n",
       "      <td>123-1234</td>\n",
       "    </tr>\n",
       "    <tr>\n",
       "      <th>bob</th>\n",
       "      <td>12</td>\n",
       "      <td>77</td>\n",
       "      <td>321-4321</td>\n",
       "    </tr>\n",
       "    <tr>\n",
       "      <th>eve</th>\n",
       "      <td>13</td>\n",
       "      <td>92</td>\n",
       "      <td>321-4321</td>\n",
       "    </tr>\n",
       "  </tbody>\n",
       "</table>\n",
       "</div>"
      ],
      "text/plain": [
       "       age  grade     phone\n",
       "alice   13     78  123-1234\n",
       "bob     12     77  321-4321\n",
       "eve     13     92  321-4321"
      ]
     },
     "execution_count": 56,
     "metadata": {},
     "output_type": "execute_result"
    }
   ],
   "source": [
    "students"
   ]
  },
  {
   "cell_type": "code",
   "execution_count": 57,
   "metadata": {},
   "outputs": [
    {
     "data": {
      "text/plain": [
       "age\n",
       "12    77\n",
       "13    85\n",
       "Name: grade, dtype: int64"
      ]
     },
     "execution_count": 57,
     "metadata": {},
     "output_type": "execute_result"
    }
   ],
   "source": [
    "# aggregation: mean grade grouped by age\n",
    "students.groupby('age')['grade'].mean()"
   ]
  },
  {
   "cell_type": "code",
   "execution_count": 58,
   "metadata": {},
   "outputs": [
    {
     "data": {
      "text/plain": [
       "array([ 70.,  80.,  90., 100.])"
      ]
     },
     "execution_count": 58,
     "metadata": {},
     "output_type": "execute_result"
    }
   ],
   "source": [
    "#bins\n",
    "bin = np.linspace(70, 100, 4)\n",
    "bin"
   ]
  },
  {
   "cell_type": "code",
   "execution_count": 59,
   "metadata": {},
   "outputs": [
    {
     "data": {
      "text/plain": [
       "1    12.5\n",
       "3    13.0\n",
       "Name: age, dtype: float64"
      ]
     },
     "execution_count": 59,
     "metadata": {},
     "output_type": "execute_result"
    }
   ],
   "source": [
    "# grades grouped by 70s 80s and 90s and age of students\n",
    "students.groupby( np.digitize(students.grade, bin)).age.mean()"
   ]
  },
  {
   "cell_type": "markdown",
   "metadata": {},
   "source": [
    "### more indexing"
   ]
  },
  {
   "cell_type": "code",
   "execution_count": 60,
   "metadata": {},
   "outputs": [],
   "source": [
    "num = list(range(20))"
   ]
  },
  {
   "cell_type": "code",
   "execution_count": 61,
   "metadata": {},
   "outputs": [
    {
     "data": {
      "text/plain": [
       "[0, 1, 2, 3, 4, 5, 6, 7, 8, 9, 10, 11, 12, 13, 14, 15, 16, 17, 18, 19]"
      ]
     },
     "execution_count": 61,
     "metadata": {},
     "output_type": "execute_result"
    }
   ],
   "source": [
    "num"
   ]
  },
  {
   "cell_type": "code",
   "execution_count": 63,
   "metadata": {},
   "outputs": [
    {
     "data": {
      "text/plain": [
       "[0, 2, 4, 6, 8, 10, 12, 14, 16, 18]"
      ]
     },
     "execution_count": 63,
     "metadata": {},
     "output_type": "execute_result"
    }
   ],
   "source": [
    "# num[ start: end: jump]\n",
    "num[ : : 2]"
   ]
  },
  {
   "cell_type": "code",
   "execution_count": 66,
   "metadata": {},
   "outputs": [
    {
     "data": {
      "text/plain": [
       "[15, 12, 9, 6, 3]"
      ]
     },
     "execution_count": 66,
     "metadata": {},
     "output_type": "execute_result"
    }
   ],
   "source": [
    "num[ 15: 1 : -3]"
   ]
  },
  {
   "cell_type": "code",
   "execution_count": null,
   "metadata": {},
   "outputs": [],
   "source": []
  }
 ],
 "metadata": {
  "kernelspec": {
   "display_name": "Python 3",
   "language": "python",
   "name": "python3"
  },
  "language_info": {
   "codemirror_mode": {
    "name": "ipython",
    "version": 3
   },
   "file_extension": ".py",
   "mimetype": "text/x-python",
   "name": "python",
   "nbconvert_exporter": "python",
   "pygments_lexer": "ipython3",
   "version": "3.5.2"
  }
 },
 "nbformat": 4,
 "nbformat_minor": 2
}
