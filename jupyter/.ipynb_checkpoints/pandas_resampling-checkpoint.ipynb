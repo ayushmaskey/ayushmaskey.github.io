{
 "cells": [
  {
   "cell_type": "code",
   "execution_count": 1,
   "metadata": {},
   "outputs": [],
   "source": [
    "import pandas as pd\n",
    "import numpy as np"
   ]
  },
  {
   "cell_type": "markdown",
   "metadata": {},
   "source": [
    "### resampling\n",
    " * does not have frequency and we want it\n",
    " * does not have the frequency we want"
   ]
  },
  {
   "cell_type": "code",
   "execution_count": 8,
   "metadata": {},
   "outputs": [
    {
     "data": {
      "text/plain": [
       "DatetimeIndex(['2011-01-01 01:00:00', '2011-01-01 02:00:00',\n",
       "               '2011-01-01 03:00:00'],\n",
       "              dtype='datetime64[ns]', freq='H')"
      ]
     },
     "execution_count": 8,
     "metadata": {},
     "output_type": "execute_result"
    }
   ],
   "source": [
    "rng = pd.date_range('1/1/2011', periods=72, freq='H')\n",
    "rng[1:4]"
   ]
  },
  {
   "cell_type": "code",
   "execution_count": 7,
   "metadata": {},
   "outputs": [
    {
     "data": {
      "text/plain": [
       "2011-01-01 00:00:00    0\n",
       "2011-01-01 01:00:00    1\n",
       "2011-01-01 02:00:00    2\n",
       "2011-01-01 03:00:00    3\n",
       "2011-01-01 04:00:00    4\n",
       "Freq: H, dtype: int64"
      ]
     },
     "execution_count": 7,
     "metadata": {},
     "output_type": "execute_result"
    }
   ],
   "source": [
    "ts = pd.Series(list(range(len(rng))), index=rng)\n",
    "ts.head()"
   ]
  },
  {
   "cell_type": "markdown",
   "metadata": {},
   "source": [
    "### convert hourly to 45 min frequency and fill data\n",
    " * ffill --> forward fill --> use previous month data\n",
    " * bfill"
   ]
  },
  {
   "cell_type": "code",
   "execution_count": 10,
   "metadata": {},
   "outputs": [
    {
     "data": {
      "text/plain": [
       "2011-01-01 00:00:00    0\n",
       "2011-01-01 00:45:00    0\n",
       "2011-01-01 01:30:00    1\n",
       "2011-01-01 02:15:00    2\n",
       "2011-01-01 03:00:00    3\n",
       "2011-01-01 03:45:00    3\n",
       "2011-01-01 04:30:00    4\n",
       "2011-01-01 05:15:00    5\n",
       "2011-01-01 06:00:00    6\n",
       "2011-01-01 06:45:00    6\n",
       "Freq: 45T, dtype: int64"
      ]
     },
     "execution_count": 10,
     "metadata": {},
     "output_type": "execute_result"
    }
   ],
   "source": [
    "converted = ts.asfreq('45Min', method='ffill')\n",
    "converted.head(10)"
   ]
  },
  {
   "cell_type": "code",
   "execution_count": 11,
   "metadata": {},
   "outputs": [
    {
     "data": {
      "text/plain": [
       "(72,)"
      ]
     },
     "execution_count": 11,
     "metadata": {},
     "output_type": "execute_result"
    }
   ],
   "source": [
    "ts.shape"
   ]
  },
  {
   "cell_type": "code",
   "execution_count": 12,
   "metadata": {},
   "outputs": [
    {
     "data": {
      "text/plain": [
       "(95,)"
      ]
     },
     "execution_count": 12,
     "metadata": {},
     "output_type": "execute_result"
    }
   ],
   "source": [
    "converted.shape"
   ]
  },
  {
   "cell_type": "code",
   "execution_count": 14,
   "metadata": {},
   "outputs": [
    {
     "data": {
      "text/plain": [
       "2011-01-01 00:00:00     0\n",
       "2011-01-01 03:00:00     3\n",
       "2011-01-01 06:00:00     6\n",
       "2011-01-01 09:00:00     9\n",
       "2011-01-01 12:00:00    12\n",
       "Freq: 3H, dtype: int64"
      ]
     },
     "execution_count": 14,
     "metadata": {},
     "output_type": "execute_result"
    }
   ],
   "source": [
    "converted2 = ts.asfreq('3H')\n",
    "converted2.head()"
   ]
  },
  {
   "cell_type": "markdown",
   "metadata": {},
   "source": [
    "### resampling better option to not lose all the data"
   ]
  },
  {
   "cell_type": "code",
   "execution_count": 17,
   "metadata": {},
   "outputs": [
    {
     "data": {
      "text/plain": [
       "2011-01-01 00:00:00     0.5\n",
       "2011-01-01 02:00:00     2.5\n",
       "2011-01-01 04:00:00     4.5\n",
       "2011-01-01 06:00:00     6.5\n",
       "2011-01-01 08:00:00     8.5\n",
       "2011-01-01 10:00:00    10.5\n",
       "2011-01-01 12:00:00    12.5\n",
       "2011-01-01 14:00:00    14.5\n",
       "2011-01-01 16:00:00    16.5\n",
       "2011-01-01 18:00:00    18.5\n",
       "Freq: 2H, dtype: float64"
      ]
     },
     "execution_count": 17,
     "metadata": {},
     "output_type": "execute_result"
    }
   ],
   "source": [
    "#mean of 0 and 1, 2 and 3 etc\n",
    "ts.resample('2H').mean()[0:10]"
   ]
  },
  {
   "cell_type": "code",
   "execution_count": 30,
   "metadata": {},
   "outputs": [
    {
     "data": {
      "text/plain": [
       "2011-01-03 02:00:00    50\n",
       "2011-01-03 13:00:00    61\n",
       "2011-01-03 01:00:00    49\n",
       "2011-01-03 16:00:00    64\n",
       "2011-01-01 04:00:00     4\n",
       "2011-01-02 22:00:00    46\n",
       "2011-01-01 09:00:00     9\n",
       "2011-01-02 11:00:00    35\n",
       "2011-01-02 20:00:00    44\n",
       "2011-01-02 04:00:00    28\n",
       "dtype: int64"
      ]
     },
     "execution_count": 30,
     "metadata": {},
     "output_type": "execute_result"
    }
   ],
   "source": [
    "#resampling events in irregular time series\n",
    "irreq_ts = ts[ list( np.random.choice( a = list( range( len(ts))), size=10, replace=False ))]\n",
    "irreq_ts"
   ]
  },
  {
   "cell_type": "code",
   "execution_count": 34,
   "metadata": {},
   "outputs": [
    {
     "data": {
      "text/plain": [
       "2011-01-01 04:00:00     4\n",
       "2011-01-01 09:00:00     9\n",
       "2011-01-02 04:00:00    28\n",
       "2011-01-02 11:00:00    35\n",
       "2011-01-02 20:00:00    44\n",
       "2011-01-02 22:00:00    46\n",
       "2011-01-03 01:00:00    49\n",
       "2011-01-03 02:00:00    50\n",
       "2011-01-03 13:00:00    61\n",
       "2011-01-03 16:00:00    64\n",
       "dtype: int64"
      ]
     },
     "execution_count": 34,
     "metadata": {},
     "output_type": "execute_result"
    }
   ],
   "source": [
    "irreq_ts = irreq_ts.sort_index()\n",
    "irreq_ts"
   ]
  },
  {
   "cell_type": "code",
   "execution_count": 36,
   "metadata": {},
   "outputs": [
    {
     "data": {
      "text/plain": [
       "2011-01-01 04:00:00     4.0\n",
       "2011-01-01 05:00:00     4.0\n",
       "2011-01-01 06:00:00     4.0\n",
       "2011-01-01 07:00:00     4.0\n",
       "2011-01-01 08:00:00     4.0\n",
       "2011-01-01 09:00:00     9.0\n",
       "2011-01-01 10:00:00     9.0\n",
       "2011-01-01 11:00:00     9.0\n",
       "2011-01-01 12:00:00     9.0\n",
       "2011-01-01 13:00:00     9.0\n",
       "2011-01-01 14:00:00     9.0\n",
       "2011-01-01 15:00:00     NaN\n",
       "2011-01-01 16:00:00     NaN\n",
       "2011-01-01 17:00:00     NaN\n",
       "2011-01-01 18:00:00     NaN\n",
       "2011-01-01 19:00:00     NaN\n",
       "2011-01-01 20:00:00     NaN\n",
       "2011-01-01 21:00:00     NaN\n",
       "2011-01-01 22:00:00     NaN\n",
       "2011-01-01 23:00:00     NaN\n",
       "2011-01-02 00:00:00     NaN\n",
       "2011-01-02 01:00:00     NaN\n",
       "2011-01-02 02:00:00     NaN\n",
       "2011-01-02 03:00:00     NaN\n",
       "2011-01-02 04:00:00    28.0\n",
       "2011-01-02 05:00:00    28.0\n",
       "2011-01-02 06:00:00    28.0\n",
       "2011-01-02 07:00:00    28.0\n",
       "2011-01-02 08:00:00    28.0\n",
       "2011-01-02 09:00:00    28.0\n",
       "                       ... \n",
       "2011-01-02 11:00:00    35.0\n",
       "2011-01-02 12:00:00    35.0\n",
       "2011-01-02 13:00:00    35.0\n",
       "2011-01-02 14:00:00    35.0\n",
       "2011-01-02 15:00:00    35.0\n",
       "2011-01-02 16:00:00    35.0\n",
       "2011-01-02 17:00:00     NaN\n",
       "2011-01-02 18:00:00     NaN\n",
       "2011-01-02 19:00:00     NaN\n",
       "2011-01-02 20:00:00    44.0\n",
       "2011-01-02 21:00:00    44.0\n",
       "2011-01-02 22:00:00    46.0\n",
       "2011-01-02 23:00:00    46.0\n",
       "2011-01-03 00:00:00    46.0\n",
       "2011-01-03 01:00:00    49.0\n",
       "2011-01-03 02:00:00    50.0\n",
       "2011-01-03 03:00:00    50.0\n",
       "2011-01-03 04:00:00    50.0\n",
       "2011-01-03 05:00:00    50.0\n",
       "2011-01-03 06:00:00    50.0\n",
       "2011-01-03 07:00:00    50.0\n",
       "2011-01-03 08:00:00     NaN\n",
       "2011-01-03 09:00:00     NaN\n",
       "2011-01-03 10:00:00     NaN\n",
       "2011-01-03 11:00:00     NaN\n",
       "2011-01-03 12:00:00     NaN\n",
       "2011-01-03 13:00:00    61.0\n",
       "2011-01-03 14:00:00    61.0\n",
       "2011-01-03 15:00:00    61.0\n",
       "2011-01-03 16:00:00    64.0\n",
       "Freq: H, Length: 61, dtype: float64"
      ]
     },
     "execution_count": 36,
     "metadata": {},
     "output_type": "execute_result"
    }
   ],
   "source": [
    "irreq_ts.resample('H').fillna( method='ffill', limit=5)"
   ]
  },
  {
   "cell_type": "code",
   "execution_count": 38,
   "metadata": {},
   "outputs": [
    {
     "data": {
      "text/plain": [
       "2011-01-01 04:00:00    1\n",
       "2011-01-01 05:00:00    0\n",
       "2011-01-01 06:00:00    0\n",
       "2011-01-01 07:00:00    0\n",
       "2011-01-01 08:00:00    0\n",
       "2011-01-01 09:00:00    1\n",
       "2011-01-01 10:00:00    0\n",
       "2011-01-01 11:00:00    0\n",
       "2011-01-01 12:00:00    0\n",
       "2011-01-01 13:00:00    0\n",
       "2011-01-01 14:00:00    0\n",
       "2011-01-01 15:00:00    0\n",
       "2011-01-01 16:00:00    0\n",
       "2011-01-01 17:00:00    0\n",
       "2011-01-01 18:00:00    0\n",
       "2011-01-01 19:00:00    0\n",
       "2011-01-01 20:00:00    0\n",
       "2011-01-01 21:00:00    0\n",
       "2011-01-01 22:00:00    0\n",
       "2011-01-01 23:00:00    0\n",
       "2011-01-02 00:00:00    0\n",
       "2011-01-02 01:00:00    0\n",
       "2011-01-02 02:00:00    0\n",
       "2011-01-02 03:00:00    0\n",
       "2011-01-02 04:00:00    1\n",
       "2011-01-02 05:00:00    0\n",
       "2011-01-02 06:00:00    0\n",
       "2011-01-02 07:00:00    0\n",
       "2011-01-02 08:00:00    0\n",
       "2011-01-02 09:00:00    0\n",
       "                      ..\n",
       "2011-01-02 11:00:00    1\n",
       "2011-01-02 12:00:00    0\n",
       "2011-01-02 13:00:00    0\n",
       "2011-01-02 14:00:00    0\n",
       "2011-01-02 15:00:00    0\n",
       "2011-01-02 16:00:00    0\n",
       "2011-01-02 17:00:00    0\n",
       "2011-01-02 18:00:00    0\n",
       "2011-01-02 19:00:00    0\n",
       "2011-01-02 20:00:00    1\n",
       "2011-01-02 21:00:00    0\n",
       "2011-01-02 22:00:00    1\n",
       "2011-01-02 23:00:00    0\n",
       "2011-01-03 00:00:00    0\n",
       "2011-01-03 01:00:00    1\n",
       "2011-01-03 02:00:00    1\n",
       "2011-01-03 03:00:00    0\n",
       "2011-01-03 04:00:00    0\n",
       "2011-01-03 05:00:00    0\n",
       "2011-01-03 06:00:00    0\n",
       "2011-01-03 07:00:00    0\n",
       "2011-01-03 08:00:00    0\n",
       "2011-01-03 09:00:00    0\n",
       "2011-01-03 10:00:00    0\n",
       "2011-01-03 11:00:00    0\n",
       "2011-01-03 12:00:00    0\n",
       "2011-01-03 13:00:00    1\n",
       "2011-01-03 14:00:00    0\n",
       "2011-01-03 15:00:00    0\n",
       "2011-01-03 16:00:00    1\n",
       "Freq: H, Length: 61, dtype: int64"
      ]
     },
     "execution_count": 38,
     "metadata": {},
     "output_type": "execute_result"
    }
   ],
   "source": [
    "irreq_ts.resample('H').count()"
   ]
  },
  {
   "cell_type": "code",
   "execution_count": null,
   "metadata": {},
   "outputs": [],
   "source": []
  }
 ],
 "metadata": {
  "kernelspec": {
   "display_name": "Python 3",
   "language": "python",
   "name": "python3"
  },
  "language_info": {
   "codemirror_mode": {
    "name": "ipython",
    "version": 3
   },
   "file_extension": ".py",
   "mimetype": "text/x-python",
   "name": "python",
   "nbconvert_exporter": "python",
   "pygments_lexer": "ipython3",
   "version": "3.5.2"
  }
 },
 "nbformat": 4,
 "nbformat_minor": 2
}
