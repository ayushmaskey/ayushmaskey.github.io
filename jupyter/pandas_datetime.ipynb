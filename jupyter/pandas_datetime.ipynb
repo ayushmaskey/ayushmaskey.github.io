{
 "cells": [
  {
   "cell_type": "code",
   "execution_count": 21,
   "metadata": {},
   "outputs": [],
   "source": [
    "# generating series of time\n",
    "import pandas as pd\n",
    "import numpy as np"
   ]
  },
  {
   "cell_type": "code",
   "execution_count": 22,
   "metadata": {},
   "outputs": [
    {
     "data": {
      "text/plain": [
       "DatetimeIndex(['2017-07-31 10:15:00', '2017-08-31 10:15:00',\n",
       "               '2017-09-30 10:15:00', '2017-10-31 10:15:00',\n",
       "               '2017-11-30 10:15:00', '2017-12-31 10:15:00',\n",
       "               '2018-01-31 10:15:00', '2018-02-28 10:15:00',\n",
       "               '2018-03-31 10:15:00', '2018-04-30 10:15:00'],\n",
       "              dtype='datetime64[ns]', freq='M')"
      ]
     },
     "execution_count": 22,
     "metadata": {},
     "output_type": "execute_result"
    }
   ],
   "source": [
    "# 1. specify start date, period and frequency \n",
    "t_month = pd.date_range(start='2017 Jul 15 10:15', periods = 10, freq = 'M')\n",
    "t_month\n",
    "# defaults to end of month"
   ]
  },
  {
   "cell_type": "code",
   "execution_count": 23,
   "metadata": {},
   "outputs": [
    {
     "data": {
      "text/plain": [
       "DatetimeIndex(['2017-08-01 10:15:00', '2017-09-01 10:15:00',\n",
       "               '2017-10-01 10:15:00', '2017-11-01 10:15:00',\n",
       "               '2017-12-01 10:15:00', '2018-01-01 10:15:00',\n",
       "               '2018-02-01 10:15:00', '2018-03-01 10:15:00',\n",
       "               '2018-04-01 10:15:00', '2018-05-01 10:15:00'],\n",
       "              dtype='datetime64[ns]', freq='MS')"
      ]
     },
     "execution_count": 23,
     "metadata": {},
     "output_type": "execute_result"
    }
   ],
   "source": [
    "# 1. specify start date \n",
    "t_month_start = pd.date_range(start='2017 Jul 15 10:15', periods = 10, freq = 'MS')\n",
    "t_month_start\n",
    "#default to start of the month\n",
    "# month is a month, it is either start or end\n",
    "# preserves time"
   ]
  },
  {
   "cell_type": "code",
   "execution_count": 24,
   "metadata": {},
   "outputs": [
    {
     "data": {
      "text/plain": [
       "DatetimeIndex(['2017-07-15 10:15:00', '2017-07-15 11:15:00',\n",
       "               '2017-07-15 12:15:00', '2017-07-15 13:15:00',\n",
       "               '2017-07-15 14:15:00', '2017-07-15 15:15:00',\n",
       "               '2017-07-15 16:15:00', '2017-07-15 17:15:00',\n",
       "               '2017-07-15 18:15:00', '2017-07-15 19:15:00'],\n",
       "              dtype='datetime64[ns]', freq='H')"
      ]
     },
     "execution_count": 24,
     "metadata": {},
     "output_type": "execute_result"
    }
   ],
   "source": [
    "#frequency hourly\n",
    "t_hour = pd.date_range(start='2017 Jul 15 10:15', periods = 10, freq = 'H')\n",
    "t_hour"
   ]
  },
  {
   "cell_type": "code",
   "execution_count": 25,
   "metadata": {},
   "outputs": [
    {
     "data": {
      "text/plain": [
       "DatetimeIndex(['2017-07-15 10:15:00', '2017-07-16 10:15:00',\n",
       "               '2017-07-17 10:15:00', '2017-07-18 10:15:00',\n",
       "               '2017-07-19 10:15:00', '2017-07-20 10:15:00',\n",
       "               '2017-07-21 10:15:00', '2017-07-22 10:15:00',\n",
       "               '2017-07-23 10:15:00', '2017-07-24 10:15:00'],\n",
       "              dtype='datetime64[ns]', freq='D')"
      ]
     },
     "execution_count": 25,
     "metadata": {},
     "output_type": "execute_result"
    }
   ],
   "source": [
    "#days\n",
    "t_days = pd.date_range(start='2017 Jul 15 10:15', periods = 10, freq = 'D')\n",
    "t_days"
   ]
  },
  {
   "cell_type": "code",
   "execution_count": 26,
   "metadata": {},
   "outputs": [
    {
     "data": {
      "text/plain": [
       "DatetimeIndex(['2017-07-17 10:15:00', '2017-07-18 10:15:00',\n",
       "               '2017-07-19 10:15:00', '2017-07-20 10:15:00',\n",
       "               '2017-07-21 10:15:00', '2017-07-24 10:15:00',\n",
       "               '2017-07-25 10:15:00', '2017-07-26 10:15:00',\n",
       "               '2017-07-27 10:15:00', '2017-07-28 10:15:00'],\n",
       "              dtype='datetime64[ns]', freq='B')"
      ]
     },
     "execution_count": 26,
     "metadata": {},
     "output_type": "execute_result"
    }
   ],
   "source": [
    "#business days\n",
    "t_business_days = pd.date_range(start='2017 Jul 15 10:15', periods = 10, freq = 'B')\n",
    "t_business_days"
   ]
  },
  {
   "cell_type": "code",
   "execution_count": 34,
   "metadata": {},
   "outputs": [],
   "source": [
    "# start, end , freq\n",
    "x = pd.date_range(start = '2017 Jul 15 10:15', \n",
    "              end = '2017 Jul 25', \n",
    "              freq='8H')"
   ]
  },
  {
   "cell_type": "code",
   "execution_count": 35,
   "metadata": {},
   "outputs": [
    {
     "data": {
      "text/plain": [
       "29"
      ]
     },
     "execution_count": 35,
     "metadata": {},
     "output_type": "execute_result"
    }
   ],
   "source": [
    "len(x)"
   ]
  },
  {
   "cell_type": "code",
   "execution_count": 37,
   "metadata": {},
   "outputs": [
    {
     "data": {
      "text/plain": [
       "DatetimeIndex(['2017-07-15 10:15:00+08:00', '2017-07-15 18:15:00+08:00',\n",
       "               '2017-07-16 02:15:00+08:00', '2017-07-16 10:15:00+08:00',\n",
       "               '2017-07-16 18:15:00+08:00', '2017-07-17 02:15:00+08:00',\n",
       "               '2017-07-17 10:15:00+08:00', '2017-07-17 18:15:00+08:00',\n",
       "               '2017-07-18 02:15:00+08:00', '2017-07-18 10:15:00+08:00',\n",
       "               '2017-07-18 18:15:00+08:00', '2017-07-19 02:15:00+08:00',\n",
       "               '2017-07-19 10:15:00+08:00', '2017-07-19 18:15:00+08:00',\n",
       "               '2017-07-20 02:15:00+08:00', '2017-07-20 10:15:00+08:00',\n",
       "               '2017-07-20 18:15:00+08:00', '2017-07-21 02:15:00+08:00',\n",
       "               '2017-07-21 10:15:00+08:00', '2017-07-21 18:15:00+08:00',\n",
       "               '2017-07-22 02:15:00+08:00', '2017-07-22 10:15:00+08:00',\n",
       "               '2017-07-22 18:15:00+08:00', '2017-07-23 02:15:00+08:00',\n",
       "               '2017-07-23 10:15:00+08:00', '2017-07-23 18:15:00+08:00',\n",
       "               '2017-07-24 02:15:00+08:00', '2017-07-24 10:15:00+08:00',\n",
       "               '2017-07-24 18:15:00+08:00'],\n",
       "              dtype='datetime64[ns, Asia/Hong_Kong]', freq='8H')"
      ]
     },
     "execution_count": 37,
     "metadata": {},
     "output_type": "execute_result"
    }
   ],
   "source": [
    "# add time zone\n",
    "tzome = pd.date_range(start = '2017 Jul 15 10:15', \n",
    "              end = '2017 Jul 25', \n",
    "              freq='8H', tz = 'Asia/Hong_Kong' )\n",
    "tzome"
   ]
  },
  {
   "cell_type": "code",
   "execution_count": 38,
   "metadata": {},
   "outputs": [
    {
     "data": {
      "text/plain": [
       "DatetimeIndex(['2017-07-15 00:00:00+08:00', '2017-07-15 08:00:00+08:00',\n",
       "               '2017-07-15 16:00:00+08:00', '2017-07-16 00:00:00+08:00',\n",
       "               '2017-07-16 08:00:00+08:00', '2017-07-16 16:00:00+08:00',\n",
       "               '2017-07-17 00:00:00+08:00', '2017-07-17 08:00:00+08:00',\n",
       "               '2017-07-17 16:00:00+08:00', '2017-07-18 00:00:00+08:00',\n",
       "               '2017-07-18 08:00:00+08:00', '2017-07-18 16:00:00+08:00',\n",
       "               '2017-07-19 00:00:00+08:00', '2017-07-19 08:00:00+08:00',\n",
       "               '2017-07-19 16:00:00+08:00', '2017-07-20 00:00:00+08:00',\n",
       "               '2017-07-20 08:00:00+08:00', '2017-07-20 16:00:00+08:00',\n",
       "               '2017-07-21 00:00:00+08:00', '2017-07-21 08:00:00+08:00',\n",
       "               '2017-07-21 16:00:00+08:00', '2017-07-22 00:00:00+08:00',\n",
       "               '2017-07-22 08:00:00+08:00', '2017-07-22 16:00:00+08:00',\n",
       "               '2017-07-23 00:00:00+08:00', '2017-07-23 08:00:00+08:00',\n",
       "               '2017-07-23 16:00:00+08:00', '2017-07-24 00:00:00+08:00',\n",
       "               '2017-07-24 08:00:00+08:00', '2017-07-24 16:00:00+08:00',\n",
       "               '2017-07-25 00:00:00+08:00'],\n",
       "              dtype='datetime64[ns, Asia/Hong_Kong]', freq='8H')"
      ]
     },
     "execution_count": 38,
     "metadata": {},
     "output_type": "execute_result"
    }
   ],
   "source": [
    "#normalize --> start and end date set to midnight\n",
    "t_norm = pd.date_range(start = '2017 Jul 15 10:15', \n",
    "              end = '2017 Jul 25', \n",
    "              freq='8H',\n",
    "              tz = 'Asia/Hong_Kong', normalize = True )\n",
    "t_norm"
   ]
  },
  {
   "cell_type": "code",
   "execution_count": 39,
   "metadata": {},
   "outputs": [
    {
     "data": {
      "text/plain": [
       "pandas._libs.tslib.Timestamp"
      ]
     },
     "execution_count": 39,
     "metadata": {},
     "output_type": "execute_result"
    }
   ],
   "source": [
    "type(t_norm[0])"
   ]
  },
  {
   "cell_type": "code",
   "execution_count": 41,
   "metadata": {},
   "outputs": [
    {
     "data": {
      "text/plain": [
       "Timestamp('2018-07-01 00:00:00')"
      ]
     },
     "execution_count": 41,
     "metadata": {},
     "output_type": "execute_result"
    }
   ],
   "source": [
    "# timestamp\n",
    "pd.Timestamp('2018-07-1')"
   ]
  },
  {
   "cell_type": "code",
   "execution_count": 46,
   "metadata": {},
   "outputs": [
    {
     "data": {
      "text/plain": [
       "Timestamp('2017-10-23 19:00:23.012345678')"
      ]
     },
     "execution_count": 46,
     "metadata": {},
     "output_type": "execute_result"
    }
   ],
   "source": [
    "t_stamp = pd.Timestamp('2017-10-23 19:00:23.0123456789')\n",
    "t_stamp"
   ]
  },
  {
   "cell_type": "code",
   "execution_count": 47,
   "metadata": {},
   "outputs": [
    {
     "data": {
      "text/plain": [
       "2017"
      ]
     },
     "execution_count": 47,
     "metadata": {},
     "output_type": "execute_result"
    }
   ],
   "source": [
    "t_stamp.year"
   ]
  },
  {
   "cell_type": "code",
   "execution_count": 48,
   "metadata": {},
   "outputs": [
    {
     "data": {
      "text/plain": [
       "10"
      ]
     },
     "execution_count": 48,
     "metadata": {},
     "output_type": "execute_result"
    }
   ],
   "source": [
    "t_stamp.month"
   ]
  },
  {
   "cell_type": "code",
   "execution_count": 49,
   "metadata": {},
   "outputs": [
    {
     "data": {
      "text/plain": [
       "'Monday'"
      ]
     },
     "execution_count": 49,
     "metadata": {},
     "output_type": "execute_result"
    }
   ],
   "source": [
    "t_stamp.weekday_name"
   ]
  },
  {
   "cell_type": "code",
   "execution_count": 56,
   "metadata": {},
   "outputs": [
    {
     "data": {
      "text/plain": [
       "Timedelta('1 days 02:00:00.000001')"
      ]
     },
     "execution_count": 56,
     "metadata": {},
     "output_type": "execute_result"
    }
   ],
   "source": [
    "# time offset\n",
    "td = pd.Timedelta('2H 1 day 1us')\n",
    "td"
   ]
  },
  {
   "cell_type": "code",
   "execution_count": 57,
   "metadata": {},
   "outputs": [
    {
     "data": {
      "text/plain": [
       "Timestamp('2017-10-24 21:00:23.012346678')"
      ]
     },
     "execution_count": 57,
     "metadata": {},
     "output_type": "execute_result"
    }
   ],
   "source": [
    "t_stamp + td"
   ]
  },
  {
   "cell_type": "code",
   "execution_count": 58,
   "metadata": {},
   "outputs": [
    {
     "data": {
      "text/plain": [
       "Period('2016-07', 'M')"
      ]
     },
     "execution_count": 58,
     "metadata": {},
     "output_type": "execute_result"
    }
   ],
   "source": [
    "# time span --> Period has start and end time \n",
    "p  = pd.Period('7/2016')\n",
    "p"
   ]
  },
  {
   "cell_type": "code",
   "execution_count": 59,
   "metadata": {},
   "outputs": [
    {
     "data": {
      "text/plain": [
       "Timestamp('2016-07-21 00:00:00')"
      ]
     },
     "execution_count": 59,
     "metadata": {},
     "output_type": "execute_result"
    }
   ],
   "source": [
    "t = pd.Timestamp('7/21/2016')\n",
    "t"
   ]
  },
  {
   "cell_type": "code",
   "execution_count": 67,
   "metadata": {},
   "outputs": [
    {
     "data": {
      "text/plain": [
       "True"
      ]
     },
     "execution_count": 67,
     "metadata": {},
     "output_type": "execute_result"
    }
   ],
   "source": [
    "p.start_time < t < p.end_time"
   ]
  },
  {
   "cell_type": "code",
   "execution_count": 68,
   "metadata": {},
   "outputs": [
    {
     "data": {
      "text/plain": [
       "PeriodIndex(['2016-01-01 12:15', '2016-01-01 13:15', '2016-01-01 14:15',\n",
       "             '2016-01-01 15:15', '2016-01-01 16:15', '2016-01-01 17:15',\n",
       "             '2016-01-01 18:15', '2016-01-01 19:15', '2016-01-01 20:15',\n",
       "             '2016-01-01 21:15'],\n",
       "            dtype='period[60T]', freq='60T')"
      ]
     },
     "execution_count": 68,
     "metadata": {},
     "output_type": "execute_result"
    }
   ],
   "source": [
    "# range of periods\n",
    "p_range = pd.period_range('2016-01-01 12:15', freq = '60T', periods=10)\n",
    "p_range"
   ]
  },
  {
   "cell_type": "code",
   "execution_count": 72,
   "metadata": {},
   "outputs": [
    {
     "data": {
      "text/plain": [
       "2016-07-01 11:15:00    0\n",
       "2016-07-01 12:15:00    1\n",
       "2016-07-01 13:15:00    2\n",
       "2016-07-01 14:15:00    3\n",
       "2016-07-01 15:15:00    4\n",
       "Freq: 60T, dtype: int64"
      ]
     },
     "execution_count": 72,
     "metadata": {},
     "output_type": "execute_result"
    }
   ],
   "source": [
    "# indexing time series with date_range\n",
    "num_periods = 40\n",
    "ts_dt = pd.Series(range(num_periods), \n",
    "                  pd.date_range('2016-07-01 11:15', \n",
    "                                freq = '60T', \n",
    "                                periods = num_periods ))\n",
    "ts_dt.head()"
   ]
  },
  {
   "cell_type": "code",
   "execution_count": 74,
   "metadata": {},
   "outputs": [
    {
     "data": {
      "text/plain": [
       "pandas.core.indexes.datetimes.DatetimeIndex"
      ]
     },
     "execution_count": 74,
     "metadata": {},
     "output_type": "execute_result"
    }
   ],
   "source": [
    "type(ts_dt.index)"
   ]
  },
  {
   "cell_type": "code",
   "execution_count": 75,
   "metadata": {},
   "outputs": [
    {
     "data": {
      "text/plain": [
       "pandas._libs.tslib.Timestamp"
      ]
     },
     "execution_count": 75,
     "metadata": {},
     "output_type": "execute_result"
    }
   ],
   "source": [
    "type(ts_dt.index[0])"
   ]
  },
  {
   "cell_type": "code",
   "execution_count": 76,
   "metadata": {},
   "outputs": [
    {
     "data": {
      "text/plain": [
       "2016-07-01 11:15:00    0\n",
       "Freq: 60T, dtype: int64"
      ]
     },
     "execution_count": 76,
     "metadata": {},
     "output_type": "execute_result"
    }
   ],
   "source": [
    "ts_dt['2016-7-1 11']"
   ]
  },
  {
   "cell_type": "code",
   "execution_count": 77,
   "metadata": {},
   "outputs": [
    {
     "data": {
      "text/plain": [
       "2016-07-01 11:15    0\n",
       "2016-07-01 12:15    1\n",
       "2016-07-01 13:15    2\n",
       "2016-07-01 14:15    3\n",
       "2016-07-01 15:15    4\n",
       "Freq: 60T, dtype: int64"
      ]
     },
     "execution_count": 77,
     "metadata": {},
     "output_type": "execute_result"
    }
   ],
   "source": [
    "num_periods = 40\n",
    "ts_dt_rng = pd.Series(range(num_periods), \n",
    "                  pd.period_range('2016-07-01 11:15', \n",
    "                                freq = '60T', \n",
    "                                periods = num_periods ))\n",
    "ts_dt_rng.head()"
   ]
  },
  {
   "cell_type": "code",
   "execution_count": 79,
   "metadata": {},
   "outputs": [
    {
     "data": {
      "text/plain": [
       "pandas.core.indexes.period.PeriodIndex"
      ]
     },
     "execution_count": 79,
     "metadata": {},
     "output_type": "execute_result"
    }
   ],
   "source": [
    "type(ts_dt_rng.index)"
   ]
  },
  {
   "cell_type": "code",
   "execution_count": 80,
   "metadata": {},
   "outputs": [
    {
     "data": {
      "text/plain": [
       "pandas._libs.period.Period"
      ]
     },
     "execution_count": 80,
     "metadata": {},
     "output_type": "execute_result"
    }
   ],
   "source": [
    "type(ts_dt_rng.index[0])"
   ]
  },
  {
   "cell_type": "code",
   "execution_count": 87,
   "metadata": {},
   "outputs": [
    {
     "data": {
      "text/plain": [
       "2016-07-02 22:15    35\n",
       "2016-07-02 23:15    36\n",
       "2016-07-03 00:15    37\n",
       "2016-07-03 01:15    38\n",
       "2016-07-03 02:15    39\n",
       "Freq: 60T, dtype: int64"
      ]
     },
     "execution_count": 87,
     "metadata": {},
     "output_type": "execute_result"
    }
   ],
   "source": [
    "ts_pd = ts_dt.to_period(freq='60T')\n",
    "ts_pd.tail()"
   ]
  },
  {
   "cell_type": "code",
   "execution_count": 90,
   "metadata": {},
   "outputs": [
    {
     "data": {
      "text/plain": [
       "pandas._libs.period.Period"
      ]
     },
     "execution_count": 90,
     "metadata": {},
     "output_type": "execute_result"
    }
   ],
   "source": [
    "type(ts_pd.index[0])"
   ]
  },
  {
   "cell_type": "code",
   "execution_count": 94,
   "metadata": {},
   "outputs": [
    {
     "data": {
      "text/plain": [
       "2016-07-01 11:15   1970-01-01 00:00:00.000000000\n",
       "2016-07-01 12:15   1970-01-01 00:00:00.000000001\n",
       "2016-07-01 13:15   1970-01-01 00:00:00.000000002\n",
       "2016-07-01 14:15   1970-01-01 00:00:00.000000003\n",
       "2016-07-01 15:15   1970-01-01 00:00:00.000000004\n",
       "Freq: 60T, dtype: datetime64[ns]"
      ]
     },
     "execution_count": 94,
     "metadata": {},
     "output_type": "execute_result"
    }
   ],
   "source": [
    "per = pd.to_datetime(ts_dt_rng)\n",
    "per.head()"
   ]
  },
  {
   "cell_type": "markdown",
   "metadata": {},
   "source": [
    "### grab everything from july first and second"
   ]
  },
  {
   "cell_type": "code",
   "execution_count": 96,
   "metadata": {},
   "outputs": [
    {
     "data": {
      "text/plain": [
       "2016-07-01 11:15:00     0\n",
       "2016-07-01 12:15:00     1\n",
       "2016-07-01 13:15:00     2\n",
       "2016-07-01 14:15:00     3\n",
       "2016-07-01 15:15:00     4\n",
       "2016-07-01 16:15:00     5\n",
       "2016-07-01 17:15:00     6\n",
       "2016-07-01 18:15:00     7\n",
       "2016-07-01 19:15:00     8\n",
       "2016-07-01 20:15:00     9\n",
       "2016-07-01 21:15:00    10\n",
       "2016-07-01 22:15:00    11\n",
       "2016-07-01 23:15:00    12\n",
       "Freq: 60T, dtype: int64"
      ]
     },
     "execution_count": 96,
     "metadata": {},
     "output_type": "execute_result"
    }
   ],
   "source": [
    "ts_dt['2016-07-01']"
   ]
  },
  {
   "cell_type": "code",
   "execution_count": 101,
   "metadata": {},
   "outputs": [
    {
     "data": {
      "text/plain": [
       "2016-07-01 11:15:00     0\n",
       "2016-07-01 12:15:00     1\n",
       "2016-07-01 13:15:00     2\n",
       "2016-07-01 14:15:00     3\n",
       "2016-07-01 15:15:00     4\n",
       "2016-07-01 16:15:00     5\n",
       "2016-07-01 17:15:00     6\n",
       "2016-07-01 18:15:00     7\n",
       "2016-07-01 19:15:00     8\n",
       "2016-07-01 20:15:00     9\n",
       "2016-07-01 21:15:00    10\n",
       "2016-07-01 22:15:00    11\n",
       "2016-07-01 23:15:00    12\n",
       "2016-07-02 00:15:00    13\n",
       "2016-07-02 01:15:00    14\n",
       "2016-07-02 02:15:00    15\n",
       "2016-07-02 03:15:00    16\n",
       "2016-07-02 04:15:00    17\n",
       "2016-07-02 05:15:00    18\n",
       "2016-07-02 06:15:00    19\n",
       "2016-07-02 07:15:00    20\n",
       "2016-07-02 08:15:00    21\n",
       "2016-07-02 09:15:00    22\n",
       "2016-07-02 10:15:00    23\n",
       "2016-07-02 11:15:00    24\n",
       "2016-07-02 12:15:00    25\n",
       "2016-07-02 13:15:00    26\n",
       "2016-07-02 14:15:00    27\n",
       "2016-07-02 15:15:00    28\n",
       "2016-07-02 16:15:00    29\n",
       "2016-07-02 17:15:00    30\n",
       "2016-07-02 18:15:00    31\n",
       "2016-07-02 19:15:00    32\n",
       "2016-07-02 20:15:00    33\n",
       "2016-07-02 21:15:00    34\n",
       "2016-07-02 22:15:00    35\n",
       "2016-07-02 23:15:00    36\n",
       "Freq: 60T, dtype: int64"
      ]
     },
     "execution_count": 101,
     "metadata": {},
     "output_type": "execute_result"
    }
   ],
   "source": [
    "#partial string index inclusive\n",
    "ts_dt['2016-07-01':'2016-07-02']"
   ]
  },
  {
   "cell_type": "code",
   "execution_count": 102,
   "metadata": {},
   "outputs": [
    {
     "data": {
      "text/plain": [
       "2016-07-02 00:15:00    13\n",
       "2016-07-02 01:15:00    14\n",
       "2016-07-02 02:15:00    15\n",
       "2016-07-02 03:15:00    16\n",
       "2016-07-02 04:15:00    17\n",
       "2016-07-02 05:15:00    18\n",
       "2016-07-02 06:15:00    19\n",
       "2016-07-02 07:15:00    20\n",
       "2016-07-02 08:15:00    21\n",
       "2016-07-02 09:15:00    22\n",
       "2016-07-02 10:15:00    23\n",
       "2016-07-02 11:15:00    24\n",
       "2016-07-02 12:15:00    25\n",
       "2016-07-02 13:15:00    26\n",
       "2016-07-02 14:15:00    27\n",
       "2016-07-02 15:15:00    28\n",
       "2016-07-02 16:15:00    29\n",
       "2016-07-02 17:15:00    30\n",
       "2016-07-02 18:15:00    31\n",
       "2016-07-02 19:15:00    32\n",
       "2016-07-02 20:15:00    33\n",
       "2016-07-02 21:15:00    34\n",
       "2016-07-02 22:15:00    35\n",
       "2016-07-02 23:15:00    36\n",
       "2016-07-03 00:15:00    37\n",
       "2016-07-03 01:15:00    38\n",
       "2016-07-03 02:15:00    39\n",
       "Freq: 60T, dtype: int64"
      ]
     },
     "execution_count": 102,
     "metadata": {},
     "output_type": "execute_result"
    }
   ],
   "source": [
    "ts_dt['july 2 2016': ]"
   ]
  },
  {
   "cell_type": "markdown",
   "metadata": {},
   "source": [
    "### create pd.Timestamp with European stype date string"
   ]
  },
  {
   "cell_type": "code",
   "execution_count": 110,
   "metadata": {},
   "outputs": [
    {
     "data": {
      "text/plain": [
       "Timestamp('2016-01-15 00:00:00')"
      ]
     },
     "execution_count": 110,
     "metadata": {},
     "output_type": "execute_result"
    }
   ],
   "source": [
    "pd.to_datetime('15/1/2016', dayfirst=True)"
   ]
  },
  {
   "cell_type": "code",
   "execution_count": 111,
   "metadata": {},
   "outputs": [
    {
     "data": {
      "text/plain": [
       "2016"
      ]
     },
     "execution_count": 111,
     "metadata": {},
     "output_type": "execute_result"
    }
   ],
   "source": [
    "date = pd.to_datetime('15/1/2016')\n",
    "date.year"
   ]
  },
  {
   "cell_type": "code",
   "execution_count": 112,
   "metadata": {},
   "outputs": [
    {
     "data": {
      "text/plain": [
       "1"
      ]
     },
     "execution_count": 112,
     "metadata": {},
     "output_type": "execute_result"
    }
   ],
   "source": [
    "date.month"
   ]
  },
  {
   "cell_type": "code",
   "execution_count": 113,
   "metadata": {},
   "outputs": [
    {
     "data": {
      "text/plain": [
       "15"
      ]
     },
     "execution_count": 113,
     "metadata": {},
     "output_type": "execute_result"
    }
   ],
   "source": [
    "date.day"
   ]
  },
  {
   "cell_type": "code",
   "execution_count": 115,
   "metadata": {},
   "outputs": [
    {
     "data": {
      "text/plain": [
       "'2016'"
      ]
     },
     "execution_count": 115,
     "metadata": {},
     "output_type": "execute_result"
    }
   ],
   "source": [
    "date.strftime(format = '%Y')"
   ]
  },
  {
   "cell_type": "code",
   "execution_count": 122,
   "metadata": {},
   "outputs": [
    {
     "data": {
      "text/plain": [
       "'16-01-15'"
      ]
     },
     "execution_count": 122,
     "metadata": {},
     "output_type": "execute_result"
    }
   ],
   "source": [
    "date.strftime(format = '%y-%m-%d')"
   ]
  },
  {
   "cell_type": "markdown",
   "metadata": {},
   "source": [
    "### indexing"
   ]
  },
  {
   "cell_type": "code",
   "execution_count": 130,
   "metadata": {},
   "outputs": [
    {
     "data": {
      "text/plain": [
       "2016-07-02 00:15    13\n",
       "2016-07-02 03:15    16\n",
       "2016-07-02 06:15    19\n",
       "2016-07-02 09:15    22\n",
       "2016-07-02 12:15    25\n",
       "2016-07-02 15:15    28\n",
       "2016-07-02 18:15    31\n",
       "2016-07-02 21:15    34\n",
       "2016-07-03 00:15    37\n",
       "Freq: 60T, dtype: int64"
      ]
     },
     "execution_count": 130,
     "metadata": {},
     "output_type": "execute_result"
    }
   ],
   "source": [
    "ts_pd['jul 2, 2016': : 3]"
   ]
  },
  {
   "cell_type": "code",
   "execution_count": 132,
   "metadata": {},
   "outputs": [
    {
     "data": {
      "text/plain": [
       "2016-07-02 23:15    36\n",
       "2016-07-02 21:15    34\n",
       "2016-07-02 19:15    32\n",
       "2016-07-02 17:15    30\n",
       "2016-07-02 15:15    28\n",
       "2016-07-02 13:15    26\n",
       "2016-07-02 11:15    24\n",
       "2016-07-02 09:15    22\n",
       "2016-07-02 07:15    20\n",
       "2016-07-02 05:15    18\n",
       "2016-07-02 03:15    16\n",
       "2016-07-02 01:15    14\n",
       "2016-07-01 23:15    12\n",
       "2016-07-01 21:15    10\n",
       "2016-07-01 19:15     8\n",
       "2016-07-01 17:15     6\n",
       "2016-07-01 15:15     4\n",
       "2016-07-01 13:15     2\n",
       "2016-07-01 11:15     0\n",
       "Freq: 60T, dtype: int64"
      ]
     },
     "execution_count": 132,
     "metadata": {},
     "output_type": "execute_result"
    }
   ],
   "source": [
    "ts_pd['jul 2, 2016': : -2]"
   ]
  },
  {
   "cell_type": "code",
   "execution_count": null,
   "metadata": {},
   "outputs": [],
   "source": []
  }
 ],
 "metadata": {
  "kernelspec": {
   "display_name": "Python 3",
   "language": "python",
   "name": "python3"
  },
  "language_info": {
   "codemirror_mode": {
    "name": "ipython",
    "version": 3
   },
   "file_extension": ".py",
   "mimetype": "text/x-python",
   "name": "python",
   "nbconvert_exporter": "python",
   "pygments_lexer": "ipython3",
   "version": "3.5.2"
  }
 },
 "nbformat": 4,
 "nbformat_minor": 2
}
